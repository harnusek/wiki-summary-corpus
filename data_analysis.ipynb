{
  "nbformat": 4,
  "nbformat_minor": 0,
  "metadata": {
    "colab": {
      "name": "corpus info --  analysis",
      "version": "0.3.2",
      "provenance": [],
      "collapsed_sections": [],
      "toc_visible": true
    },
    "kernelspec": {
      "display_name": "Python 3",
      "name": "python3"
    }
  },
  "cells": [
    {
      "cell_type": "markdown",
      "metadata": {
        "id": "xWcTvZbJX0vX",
        "colab_type": "text"
      },
      "source": [
        "**Ondrej Harnúšek**\n",
        "\n",
        "**Bakalárska práca: Nástroj na určovanie podobnosti textov**\n",
        "\n",
        "**máj 2019**\n",
        "\n",
        "****"
      ]
    },
    {
      "cell_type": "code",
      "metadata": {
        "id": "Eb4StmWEhaxh",
        "colab_type": "code",
        "colab": {}
      },
      "source": [
        "import pandas as pd\n",
        "import numpy as np\n",
        "import matplotlib.pyplot as plt\n",
        "import seaborn as sns\n",
        "%matplotlib inline"
      ],
      "execution_count": 0,
      "outputs": []
    },
    {
      "cell_type": "code",
      "metadata": {
        "id": "I8JArCSnwLjq",
        "colab_type": "code",
        "colab": {}
      },
      "source": [
        "# Transformuje bool hodnoty na reťazce v slovenčine\n",
        "def translate_bool(var):\n",
        "  return \"áno\" if var==True else 'nie'"
      ],
      "execution_count": 0,
      "outputs": []
    },
    {
      "cell_type": "code",
      "metadata": {
        "id": "J2dnB3mQKnSB",
        "colab_type": "code",
        "colab": {}
      },
      "source": [
        "# Transformuje premenné na reťazce v slovenčine\n",
        "def translate_parm(var):\n",
        "  if var == \"use_lem\":\n",
        "    return \"lematizácie\"\n",
        "  if var == \"use_pos\":\n",
        "    return \"slovných druhov\"\n",
        "  if var == \"use_stop\":\n",
        "    return \"stop slov\""
      ],
      "execution_count": 0,
      "outputs": []
    },
    {
      "cell_type": "markdown",
      "metadata": {
        "id": "ARiww5VWthKa",
        "colab_type": "text"
      },
      "source": [
        "# Analýza korpusu vybraných viet"
      ]
    },
    {
      "cell_type": "code",
      "metadata": {
        "id": "LJ_FW6ukhd27",
        "colab_type": "code",
        "colab": {}
      },
      "source": [
        "sents_lens_man_eval = [23, 24, 15, 9, 10, 10, 13, 5, 10, 8, 4, 9, 10, 9, 16, 22, 19, 14, 9, 6, 7, 10, 4, 15, 6, 14, 11, 13, 11, 8, 4, 9, 6, 7,\n",
        "                       5, 7, 6, 5, 7, 20, 9, 9, 5, 17, 11, 15, 8, 4, 12, 25, 13, 18, 13, 12, 17, 8, 6, 9, 8, 20, 6, 14, 9, 23, 13, 12, 15, 10,\n",
        "                       6, 6, 7, 10, 8, 11, 10, 7, 6, 9, 6, 8, 13, 11, 7, 8, 17, 5, 8, 10, 7, 9, 10, 8, 9, 9, 7, 9, 10, 9, 9, 11, 13, 11, 15, 7,\n",
        "                       12, 13, 16, 19, 20, 13, 34, 13, 13, 16, 7, 7, 14, 23, 10, 6, 10, 17, 10, 11, 10, 7, 13, 10, 8, 9, 7, 26, 16, 8, 5, 4, 4,\n",
        "                       15, 10, 28, 9, 7, 12, 19, 6, 13, 9, 10, 8, 7, 4, 20, 16, 5, 9, 17, 12, 8, 6, 6, 14, 5, 13, 11, 15, 13, 10, 11, 7, 8, 7,\n",
        "                       7, 8, 8, 7, 7, 15, 23, 15, 7, 9, 7, 16, 15, 9, 11, 8, 11, 16, 9, 22, 9, 20, 13, 11, 13, 11, 12, 10, 7]"
      ],
      "execution_count": 0,
      "outputs": []
    },
    {
      "cell_type": "markdown",
      "metadata": {
        "id": "iqi_T8bOpb-Z",
        "colab_type": "text"
      },
      "source": [
        "**Zoznam počtu slov vo vybraných vetách**"
      ]
    },
    {
      "cell_type": "code",
      "metadata": {
        "id": "KcS5i9CHtVBW",
        "colab_type": "code",
        "outputId": "cfca4fbb-c936-49d6-f458-3afe0e6728a3",
        "colab": {
          "base_uri": "https://localhost:8080/",
          "height": 34
        }
      },
      "source": [
        "len(sents_lens_man_eval)"
      ],
      "execution_count": 0,
      "outputs": [
        {
          "output_type": "execute_result",
          "data": {
            "text/plain": [
              "200"
            ]
          },
          "metadata": {
            "tags": []
          },
          "execution_count": 119
        }
      ]
    },
    {
      "cell_type": "markdown",
      "metadata": {
        "id": "qAP8CNShtbt7",
        "colab_type": "text"
      },
      "source": [
        "**Bolo vybraných 100 párov viet**"
      ]
    },
    {
      "cell_type": "code",
      "metadata": {
        "id": "730w9WzzlRot",
        "colab_type": "code",
        "outputId": "91c173c4-c950-4770-eb10-2a5f454ef064",
        "colab": {
          "base_uri": "https://localhost:8080/",
          "height": 283
        }
      },
      "source": [
        "plt.hist(sents_lens_man_eval, bins=32)\n",
        "plt.xlabel('počet slov')\n",
        "plt.ylabel('počet viet')\n",
        "plt.xticks(list(range(0,35,2)))\n",
        "plt.yticks(list(range(0,25,2)))\n",
        "plt.show()"
      ],
      "execution_count": 0,
      "outputs": [
        {
          "output_type": "display_data",
          "data": {
            "image/png": "[encoded data removed]",
            "text/plain": [
              "<Figure size 432x288 with 1 Axes>"
            ]
          },
          "metadata": {
            "tags": []
          }
        }
      ]
    },
    {
      "cell_type": "markdown",
      "metadata": {
        "id": "4voAXg60uCwC",
        "colab_type": "text"
      },
      "source": [
        "**Histogram počtu slov vo vetách**"
      ]
    },
    {
      "cell_type": "code",
      "metadata": {
        "id": "GRtWiIF4jRRF",
        "colab_type": "code",
        "outputId": "e0595101-7ecd-4810-d7e4-8269c0eb0f60",
        "colab": {
          "base_uri": "https://localhost:8080/",
          "height": 34
        }
      },
      "source": [
        "print(\"Medián počtu slov: \",np.median(sents_lens_man_eval))"
      ],
      "execution_count": 0,
      "outputs": [
        {
          "output_type": "stream",
          "text": [
            "Medián počtu slov:  10.0\n"
          ],
          "name": "stdout"
        }
      ]
    },
    {
      "cell_type": "code",
      "metadata": {
        "id": "atQ5GLmvuU3B",
        "colab_type": "code",
        "outputId": "721bae1d-da9f-40eb-c859-96966d5b851f",
        "colab": {
          "base_uri": "https://localhost:8080/",
          "height": 34
        }
      },
      "source": [
        "print(\"Najmenší počet slov: \",min(sents_lens_man_eval))"
      ],
      "execution_count": 0,
      "outputs": [
        {
          "output_type": "stream",
          "text": [
            "Najmenší počet slov:  4\n"
          ],
          "name": "stdout"
        }
      ]
    },
    {
      "cell_type": "code",
      "metadata": {
        "id": "QuCBdfAQuVGd",
        "colab_type": "code",
        "outputId": "70f2a169-2272-47d8-abcf-55fb6444c1d8",
        "colab": {
          "base_uri": "https://localhost:8080/",
          "height": 34
        }
      },
      "source": [
        "print(\"Najväčší počet slov: \",max(sents_lens_man_eval))"
      ],
      "execution_count": 0,
      "outputs": [
        {
          "output_type": "stream",
          "text": [
            "Najväčší počet slov:  34\n"
          ],
          "name": "stdout"
        }
      ]
    },
    {
      "cell_type": "markdown",
      "metadata": {
        "id": "FjZ8XHp2pW-U",
        "colab_type": "text"
      },
      "source": [
        "# Analýza dát od účastníkov experimentu"
      ]
    },
    {
      "cell_type": "code",
      "metadata": {
        "id": "x9Ndsp6alDpa",
        "colab_type": "code",
        "colab": {}
      },
      "source": [
        "all_sims = [[0.0, 2.0, 0.0, 1.0, 1.0], [2.0, 1.0, 3.0, 3.0, 1.0], [4.0, 4.0, 2.0, 4.0, 2.0], [3.0, 2.0, 3.0, 2.0, 1.0], [3.0, 2.0, 3.0, 3.0, 3.0], \n",
        "            [2.0, 2.0, 2.0, 2.0, 1.0], [0.0, 1.0, 3.0, 1.0, 2.0], [0.0, 1.0, 0.0, 0.0, 0.0], [2.0, 2.0, 1.0, 2.0, 1.0], [1.0, 1.0, 1.0, 1.0, 0.0], \n",
        "            [2.0, 1.0, 1.0, 4.0, 3.0], [1.0, 0.0, 3.0, 0.0, 0.0], [1.0, 1.0, 1.0, 0.0, 0.0], [1.0, 0.0, 1.0, 1.0, 0.0], [4.0, 2.0, 3.0, 4.0, 3.0], \n",
        "            [0.0, 1.0, 0.0, 0.0, 0.0], [0.0, 2.0, 1.0, 0.0, 0.0], [4.0, 2.0, 3.0, 4.0, 3.0], [3.0, 1.0, 1.0, 3.0, 1.0], [2.0, 3.0, 1.0, 1.0, 0.0], \n",
        "            [4.0, 2.0, 2.0, 4.0, 3.0], [3.0, 2.0, 3.0, 3.0, 3.0], [2.0, 1.0, 1.0, 1.0, 0.0], [0.0, 1.0, 1.0, 0.0, 0.0], [0.0, 3.0, 2.0, 0.0, 0.0], \n",
        "            [1.0, 1.0, 1.0, 0.0, 1.0], [1.0, 2.0, 1.0, 0.0, 0.0], [0.0, 3.0, 0.0, 0.0, 0.0], [3.0, 4.0, 3.0, 4.0, 2.0], [3.0, 2.0, 3.0, 2.0, 3.0],\n",
        "            [2.0, 1.0, 1.0, 1.0, 2.0], [0.0, 3.0, 1.0, 1.0, 0.0], [4.0, 2.0, 3.0, 4.0, 3.0], [1.0, 2.0, 1.0, 1.0, 1.0], [4.0, 2.0, 1.0, 3.0, 1.0], \n",
        "            [3.0, 4.0, 2.0, 3.0, 3.0], [3.0, 2.0, 3.0, 2.0, 1.0], [3.0, 3.0, 1.0, 4.0, 3.0], [4.0, 4.0, 3.0, 3.0, 3.0], [2.0, 2.0, 0.0, 2.0, 1.0],\n",
        "            [1.0, 2.0, 0.0, 3.0, 1.0], [4.0, 3.0, 3.0, 3.0, 2.0], [3.0, 2.0, 3.0, 4.0, 3.0], [3.0, 1.0, 2.0, 2.0, 3.0], [0.0, 2.0, 2.0, 2.0, 0.0], \n",
        "            [1.0, 3.0, 1.0, 1.0, 1.0], [0.0, 1.0, 3.0, 2.0, 0.0], [0.0, 2.0, 1.0, 2.0, 1.0], [1.0, 2.0, 3.0, 3.0, 1.0], [0.0, 1.0, 1.0, 4.0, 2.0], \n",
        "            [3.0, 1.0, 2.0, 3.0, 1.0], [2.0, 2.0, 1.0, 4.0, 1.0], [0.0, 2.0, 0.0, 3.0, 0.0], [1.0, 0.0, 1.0, 2.0, 1.0], [0.0, 1.0, 1.0, 0.0, 0.0], \n",
        "            [0.0, 0.0, 0.0, 1.0, 1.0], [0.0, 1.0, 0.0, 2.0, 0.0], [1.0, 2.0, 1.0, 4.0, 2.0], [0.0, 0.0, 0.0, 0.0, 0.0], [1.0, 2.0, 1.0, 3.0, 1.0], \n",
        "            [1.0, 1.0, 1.0, 1.0, 3.0], [2.0, 1.0, 1.0, 3.0, 1.0], [0.0, 0.0, 0.0, 0.0, 0.0], [3.0, 1.0, 1.0, 4.0, 2.0], [0.0, 2.0, 1.0, 0.0, 0.0], \n",
        "            [1.0, 2.0, 1.0, 1.0, 1.0], [0.0, 2.0, 0.0, 2.0, 1.0], [4.0, 3.0, 3.0, 4.0, 3.0], [2.0, 1.0, 1.0, 2.0, 2.0], [1.0, 1.0, 0.0, 3.0, 0.0], \n",
        "            [1.0, 2.0, 1.0, 2.0, 0.0], [0.0, 1.0, 0.0, 1.0, 0.0], [2.0, 2.0, 1.0, 1.0, 1.0], [1.0, 1.0, 1.0, 0.0, 0.0], [1.0, 2.0, 1.0, 2.0, 1.0], \n",
        "            [0.0, 1.0, 1.0, 0.0, 1.0], [4.0, 2.0, 1.0, 4.0, 3.0], [2.0, 2.0, 2.0, 2.0, 2.0], [0.0, 2.0, 0.0, 0.0, 0.0], [1.0, 3.0, 2.0, 1.0, 0.0],\n",
        "            [1.0, 3.0, 2.0, 1.0, 1.0], [0.0, 3.0, 2.0, 0.0, 0.0], [3.0, 2.0, 3.0, 4.0, 3.0], [1.0, 3.0, 2.0, 0.0, 1.0], [3.0, 4.0, 2.0, 4.0, 2.0],\n",
        "            [1.0, 2.0, 2.0, 1.0, 0.0], [0.0, 3.0, 2.0, 1.0, 0.0], [2.0, 4.0, 4.0, 3.0, 1.0], [0.0, 3.0, 0.0, 1.0, 0.0], [1.0, 2.0, 1.0, 0.0, 0.0],\n",
        "            [2.0, 2.0, 0.0, 2.0, 3.0], [2.0, 1.0, 1.0, 3.0, 2.0], [4.0, 2.0, 3.0, 4.0, 3.0], [3.0, 2.0, 2.0, 3.0, 3.0], [4.0, 4.0, 1.0, 4.0, 3.0],\n",
        "            [1.0, 2.0, 1.0, 3.0, 1.0], [1.0, 1.0, 2.0, 2.0, 3.0], [1.0, 2.0, 1.0, 4.0, 3.0], [0.0, 0.0, 1.0, 2.0, 0.0], [3.0, 4.0, 2.0, 3.0, 2.0]]"
      ],
      "execution_count": 0,
      "outputs": []
    },
    {
      "cell_type": "markdown",
      "metadata": {
        "id": "HERMtZOcu1_i",
        "colab_type": "text"
      },
      "source": [
        "**Stupňe (0/1/2/3/4) sémantickej podobnosti vybraných viet zadaných účastníkmi experimentu**"
      ]
    },
    {
      "cell_type": "code",
      "metadata": {
        "id": "tkTWlJxx_LKI",
        "colab_type": "code",
        "outputId": "34a3d8a8-d29b-4c45-cc4b-bd4d82225623",
        "colab": {
          "base_uri": "https://localhost:8080/",
          "height": 51
        }
      },
      "source": [
        "print(\"počet vybraných dvojíc viet: \",len(all_sims))\n",
        "print(\"počet účastníkov experimentu: \", len(all_sims[0]))"
      ],
      "execution_count": 0,
      "outputs": [
        {
          "output_type": "stream",
          "text": [
            "počet vybraných dvojíc viet:  100\n",
            "počet účastníkov experimentu:  5\n"
          ],
          "name": "stdout"
        }
      ]
    },
    {
      "cell_type": "code",
      "metadata": {
        "colab_type": "code",
        "id": "RAbY8_Ve0iTs",
        "outputId": "1302c033-f5d4-4fc7-dedd-eb26704e37f7",
        "colab": {
          "base_uri": "https://localhost:8080/",
          "height": 34
        }
      },
      "source": [
        "names = [\"účastník \"+ str(i) for i in range(1,6)]\n",
        "names"
      ],
      "execution_count": 4,
      "outputs": [
        {
          "output_type": "execute_result",
          "data": {
            "text/plain": [
              "['účastník 1', 'účastník 2', 'účastník 3', 'účastník 4', 'účastník 5']"
            ]
          },
          "metadata": {
            "tags": []
          },
          "execution_count": 4
        }
      ]
    },
    {
      "cell_type": "markdown",
      "metadata": {
        "id": "yrBTvk_q5R6-",
        "colab_type": "text"
      },
      "source": [
        "**Účastníci experimentu**"
      ]
    },
    {
      "cell_type": "code",
      "metadata": {
        "id": "E7aKXcMFvMg6",
        "colab_type": "code",
        "colab": {}
      },
      "source": [
        "avg_sims = [(sum(values)/len(values))/4 for values in all_sims]"
      ],
      "execution_count": 0,
      "outputs": []
    },
    {
      "cell_type": "markdown",
      "metadata": {
        "id": "ftPArjSzwZIB",
        "colab_type": "text"
      },
      "source": [
        "**Priemerné hodnoty (z intervalu 0 až 1) sémantickej podobnosti viet **"
      ]
    },
    {
      "cell_type": "code",
      "metadata": {
        "id": "TTiVZhyYszCs",
        "colab_type": "code",
        "outputId": "e0651737-088e-40cb-ebf8-68aec0fad578",
        "colab": {
          "base_uri": "https://localhost:8080/",
          "height": 283
        }
      },
      "source": [
        "sns.distplot(avg_sims, kde=False, bins=13, hist_kws={\"range\": [0,1]}, )\n",
        "plt.ylabel('počet párov viet')\n",
        "plt.xlabel('priemerná hodnota sémantickej podobnosti')\n",
        "plt.show()"
      ],
      "execution_count": 0,
      "outputs": [
        {
          "output_type": "display_data",
          "data": {
            "image/png": "[encoded data removed]",
            "text/plain": [
              "<Figure size 432x288 with 1 Axes>"
            ]
          },
          "metadata": {
            "tags": []
          }
        }
      ]
    },
    {
      "cell_type": "markdown",
      "metadata": {
        "id": "oDMyT8ts5ZAk",
        "colab_type": "text"
      },
      "source": [
        "**Rozloženie priemerných hodnôt podobnosti vybraných viet**"
      ]
    },
    {
      "cell_type": "code",
      "metadata": {
        "colab_type": "code",
        "outputId": "0bb6da60-f713-4d9d-dcbd-e816b221b093",
        "id": "yeoYZ7E-2okg",
        "colab": {
          "base_uri": "https://localhost:8080/",
          "height": 34
        }
      },
      "source": [
        "print(\"Medián hodnôt priemernej sémantickej podobnosti: \",np.median(avg_sims))"
      ],
      "execution_count": 0,
      "outputs": [
        {
          "output_type": "stream",
          "text": [
            "Medián hodnôt priemernej sémantickej podobnosti:  0.35\n"
          ],
          "name": "stdout"
        }
      ]
    },
    {
      "cell_type": "code",
      "metadata": {
        "colab_type": "code",
        "outputId": "586a06a1-bf6f-4bf0-97ed-8e6b67af1400",
        "id": "9uJ7-8Oi2okw",
        "colab": {
          "base_uri": "https://localhost:8080/",
          "height": 34
        }
      },
      "source": [
        "print(\"Najmenšia hodnota sémantickej podobnosti: \",min(avg_sims))"
      ],
      "execution_count": 0,
      "outputs": [
        {
          "output_type": "stream",
          "text": [
            "Najmenšia hodnota sémantickej podobnosti:  0.0\n"
          ],
          "name": "stdout"
        }
      ]
    },
    {
      "cell_type": "code",
      "metadata": {
        "colab_type": "code",
        "outputId": "d593d9b6-a6b4-437d-be32-38ddde59fe01",
        "id": "ElWSCi2E2ok8",
        "colab": {
          "base_uri": "https://localhost:8080/",
          "height": 34
        }
      },
      "source": [
        "print(\"Najväčšia hodnota sémantickej podobnosti: \",max(avg_sims))"
      ],
      "execution_count": 0,
      "outputs": [
        {
          "output_type": "stream",
          "text": [
            "Najväčšia hodnota sémantickej podobnosti:  0.85\n"
          ],
          "name": "stdout"
        }
      ]
    },
    {
      "cell_type": "markdown",
      "metadata": {
        "id": "pABwhAAq5v0Y",
        "colab_type": "text"
      },
      "source": [
        "### **Histogram stupňov podobnosti vybraných viet zadaných účastníkom \"i\"**"
      ]
    },
    {
      "cell_type": "code",
      "metadata": {
        "id": "G49PlQhXqQvI",
        "colab_type": "code",
        "colab": {}
      },
      "source": [
        "# Vykreslí histogram stupňov (0/1/2/3/4) sémantickej podobnosti vybraných viet zadaných účastníkom \"i\"**\n",
        "def hist(i):\n",
        "  plt.figure()\n",
        "  plt.hist([x[i] for x in all_sims], bins=5, range=(0,4))\n",
        "  print(names[i])\n",
        "  plt.ylabel('počet párov viet')\n",
        "  plt.xlabel('stupeň sémantickej podobnosti')\n",
        "  plt.show()"
      ],
      "execution_count": 0,
      "outputs": []
    },
    {
      "cell_type": "code",
      "metadata": {
        "id": "imsPzrMYHgCa",
        "colab_type": "code",
        "outputId": "d9185492-0298-4976-faff-5795d1e1bdf6",
        "colab": {
          "base_uri": "https://localhost:8080/",
          "height": 301
        }
      },
      "source": [
        "hist(0)"
      ],
      "execution_count": 6,
      "outputs": [
        {
          "output_type": "stream",
          "text": [
            "účastník 1\n"
          ],
          "name": "stdout"
        },
        {
          "output_type": "display_data",
          "data": {
            "image/png": "[encoded data removed]",
            "text/plain": [
              "<Figure size 432x288 with 1 Axes>"
            ]
          },
          "metadata": {
            "tags": []
          }
        }
      ]
    },
    {
      "cell_type": "code",
      "metadata": {
        "id": "54Z2CyWKwSnm",
        "colab_type": "code",
        "outputId": "5efd5450-4ea3-40d2-ec5e-dde6b1c420f2",
        "colab": {
          "base_uri": "https://localhost:8080/",
          "height": 301
        }
      },
      "source": [
        "hist(1)"
      ],
      "execution_count": 7,
      "outputs": [
        {
          "output_type": "stream",
          "text": [
            "účastník 2\n"
          ],
          "name": "stdout"
        },
        {
          "output_type": "display_data",
          "data": {
            "image/png": "[encoded data removed]",
            "text/plain": [
              "<Figure size 432x288 with 1 Axes>"
            ]
          },
          "metadata": {
            "tags": []
          }
        }
      ]
    },
    {
      "cell_type": "code",
      "metadata": {
        "id": "44clh70EwS6V",
        "colab_type": "code",
        "outputId": "1f5bd7cb-044d-4fec-d1f1-f8d171490db0",
        "colab": {
          "base_uri": "https://localhost:8080/",
          "height": 301
        }
      },
      "source": [
        "hist(2)"
      ],
      "execution_count": 8,
      "outputs": [
        {
          "output_type": "stream",
          "text": [
            "účastník 3\n"
          ],
          "name": "stdout"
        },
        {
          "output_type": "display_data",
          "data": {
            "image/png": "[encoded data removed]",
            "text/plain": [
              "<Figure size 432x288 with 1 Axes>"
            ]
          },
          "metadata": {
            "tags": []
          }
        }
      ]
    },
    {
      "cell_type": "code",
      "metadata": {
        "id": "JRPurBEDHuHj",
        "colab_type": "code",
        "outputId": "ed83b796-c705-4b20-ce8b-e7f88015891b",
        "colab": {
          "base_uri": "https://localhost:8080/",
          "height": 301
        }
      },
      "source": [
        "hist(3)"
      ],
      "execution_count": 9,
      "outputs": [
        {
          "output_type": "stream",
          "text": [
            "účastník 4\n"
          ],
          "name": "stdout"
        },
        {
          "output_type": "display_data",
          "data": {
            "image/png": "[encoded data removed]",
            "text/plain": [
              "<Figure size 432x288 with 1 Axes>"
            ]
          },
          "metadata": {
            "tags": []
          }
        }
      ]
    },
    {
      "cell_type": "code",
      "metadata": {
        "id": "EHb-CjLqHuGF",
        "colab_type": "code",
        "outputId": "672265b5-286e-4ac3-fec6-1bdf075e1ba2",
        "colab": {
          "base_uri": "https://localhost:8080/",
          "height": 301
        }
      },
      "source": [
        "hist(4)"
      ],
      "execution_count": 10,
      "outputs": [
        {
          "output_type": "stream",
          "text": [
            "účastník 5\n"
          ],
          "name": "stdout"
        },
        {
          "output_type": "display_data",
          "data": {
            "image/png": "[encoded data removed]",
            "text/plain": [
              "<Figure size 432x288 with 1 Axes>"
            ]
          },
          "metadata": {
            "tags": []
          }
        }
      ]
    },
    {
      "cell_type": "markdown",
      "metadata": {
        "id": "p2qpycDA7ZRZ",
        "colab_type": "text"
      },
      "source": [
        "### **Priemerný absolútny rozdiel medzi hodnotou  účastníka \"i\" a priemernou hodnotou všetkých účastníkov**"
      ]
    },
    {
      "cell_type": "code",
      "metadata": {
        "id": "1YTkpT3ACL1p",
        "colab_type": "code",
        "colab": {}
      },
      "source": [
        "# Vykreslí rozloženie rozdielov hodnôt zadaných účastníkom \"i\" a priemerných hodnôt\n",
        "def dist(i):\n",
        "  diffs = []\n",
        "  for x in all_sims:\n",
        "    avgx = (sum(x)/len(x))/4 \n",
        "    diff = avgx-(x[i]/4)\n",
        "    diffs.append(abs(diff))\n",
        "  avg_diff = sum(diffs)/len(diffs)\n",
        "  print(names[i],\"\\npriemer absolútnych odchýlok od priemernej hodnoty: \", round(avg_diff,4))  \n",
        "  sns.distplot(diffs, kde=False)\n",
        "  plt.ylabel('počet párov viet')\n",
        "  plt.xlabel('absolútna odchýlka od priemernej hodnoty')\n",
        "  plt.show()"
      ],
      "execution_count": 0,
      "outputs": []
    },
    {
      "cell_type": "code",
      "metadata": {
        "id": "i1vI9TxuAOq-",
        "colab_type": "code",
        "outputId": "ad89868c-ec70-458e-b90a-0816257cc9a7",
        "colab": {
          "base_uri": "https://localhost:8080/",
          "height": 318
        }
      },
      "source": [
        "dist(0)"
      ],
      "execution_count": 0,
      "outputs": [
        {
          "output_type": "stream",
          "text": [
            "účastník 1 \n",
            "priemer absolútnych odchýlok od priemernej hodnoty:  0.14\n"
          ],
          "name": "stdout"
        },
        {
          "output_type": "display_data",
          "data": {
            "image/png": "[encoded data removed]",
            "text/plain": [
              "<Figure size 432x288 with 1 Axes>"
            ]
          },
          "metadata": {
            "tags": []
          }
        }
      ]
    },
    {
      "cell_type": "code",
      "metadata": {
        "id": "riUk6ZFCP2Bb",
        "colab_type": "code",
        "outputId": "c055e5dd-4b68-4ff9-ec10-1ee6ec34387f",
        "colab": {
          "base_uri": "https://localhost:8080/",
          "height": 318
        }
      },
      "source": [
        "dist(1)"
      ],
      "execution_count": 0,
      "outputs": [
        {
          "output_type": "stream",
          "text": [
            "účastník 2 \n",
            "priemer absolútnych odchýlok od priemernej hodnoty:  0.198\n"
          ],
          "name": "stdout"
        },
        {
          "output_type": "display_data",
          "data": {
            "image/png": "[encoded data removed]",
            "text/plain": [
              "<Figure size 432x288 with 1 Axes>"
            ]
          },
          "metadata": {
            "tags": []
          }
        }
      ]
    },
    {
      "cell_type": "code",
      "metadata": {
        "id": "jzQSzNg2P3x8",
        "colab_type": "code",
        "outputId": "7d1970ef-857a-4934-e4c1-cc2aa964bddd",
        "colab": {
          "base_uri": "https://localhost:8080/",
          "height": 318
        }
      },
      "source": [
        "dist(2)"
      ],
      "execution_count": 0,
      "outputs": [
        {
          "output_type": "stream",
          "text": [
            "účastník 3 \n",
            "priemer absolútnych odchýlok od priemernej hodnoty:  0.1575\n"
          ],
          "name": "stdout"
        },
        {
          "output_type": "display_data",
          "data": {
            "image/png": "[encoded data removed]",
            "text/plain": [
              "<Figure size 432x288 with 1 Axes>"
            ]
          },
          "metadata": {
            "tags": []
          }
        }
      ]
    },
    {
      "cell_type": "code",
      "metadata": {
        "id": "RUTPsZnkP5iV",
        "colab_type": "code",
        "outputId": "79872e17-e190-4d66-c2c8-157287deb503",
        "colab": {
          "base_uri": "https://localhost:8080/",
          "height": 318
        }
      },
      "source": [
        "dist(3)"
      ],
      "execution_count": 0,
      "outputs": [
        {
          "output_type": "stream",
          "text": [
            "účastník 4 \n",
            "priemer absolútnych odchýlok od priemernej hodnoty:  0.18\n"
          ],
          "name": "stdout"
        },
        {
          "output_type": "display_data",
          "data": {
            "image/png": "[encoded data removed]",
            "text/plain": [
              "<Figure size 432x288 with 1 Axes>"
            ]
          },
          "metadata": {
            "tags": []
          }
        }
      ]
    },
    {
      "cell_type": "code",
      "metadata": {
        "id": "oRSe-pW-P60Q",
        "colab_type": "code",
        "outputId": "3204e469-c064-4f60-b25c-4f18d69de953",
        "colab": {
          "base_uri": "https://localhost:8080/",
          "height": 318
        }
      },
      "source": [
        "dist(4)"
      ],
      "execution_count": 0,
      "outputs": [
        {
          "output_type": "stream",
          "text": [
            "účastník 5 \n",
            "priemer absolútnych odchýlok od priemernej hodnoty:  0.1535\n"
          ],
          "name": "stdout"
        },
        {
          "output_type": "display_data",
          "data": {
            "image/png": "[encoded data removed]",
            "text/plain": [
              "<Figure size 432x288 with 1 Axes>"
            ]
          },
          "metadata": {
            "tags": []
          }
        }
      ]
    },
    {
      "cell_type": "code",
      "metadata": {
        "id": "UsoBv-yl8wMS",
        "colab_type": "code",
        "outputId": "51d55432-f26f-44bb-c151-90d0feb92be7",
        "colab": {
          "base_uri": "https://localhost:8080/",
          "height": 301
        }
      },
      "source": [
        "diffs = []\n",
        "for x in all_sims:\n",
        "  avgx = (sum(x)/len(x))/4\n",
        "  for s in x:\n",
        "    diff = avgx-(s/4)\n",
        "    diffs.append(abs(diff))\n",
        "avg_diff = sum(diffs)/len(diffs)\n",
        "print(\"Celkový priemer absolútnych odchýlok od priemernej hodnoty: \", round(avg_diff,4))  \n",
        "sns.distplot(diffs, kde=False)\n",
        "plt.ylabel('počet párov viet')\n",
        "plt.xlabel('absolútna odchýlka od priemernej hodnoty')\n",
        "plt.show()"
      ],
      "execution_count": 0,
      "outputs": [
        {
          "output_type": "stream",
          "text": [
            "Celkový priemer absolútnych odchýlok od priemernej hodnoty:  0.1658\n"
          ],
          "name": "stdout"
        },
        {
          "output_type": "display_data",
          "data": {
            "image/png": "[encoded data removed]",
            "text/plain": [
              "<Figure size 432x288 with 1 Axes>"
            ]
          },
          "metadata": {
            "tags": []
          }
        }
      ]
    },
    {
      "cell_type": "markdown",
      "metadata": {
        "id": "O3DQZxBy--Hs",
        "colab_type": "text"
      },
      "source": [
        "**Celkový priemer rozdielu hodnôt všetkých účastníkov a priemerných hodnôt**"
      ]
    },
    {
      "cell_type": "markdown",
      "metadata": {
        "id": "HIcwS8LJudiX",
        "colab_type": "text"
      },
      "source": [
        "# Analýza výsledkov automatickej evaluácie"
      ]
    },
    {
      "cell_type": "code",
      "metadata": {
        "id": "5CMxH9Ai9_UY",
        "colab_type": "code",
        "colab": {}
      },
      "source": [
        "auto_eval = pd.read_excel(\"results.xlsx\", sheet_name=\"auto-eval\")"
      ],
      "execution_count": 0,
      "outputs": []
    },
    {
      "cell_type": "code",
      "metadata": {
        "id": "5nJ9qBAn7WL9",
        "colab_type": "code",
        "colab": {}
      },
      "source": [
        "# Funkcia vypíše porovnanie úspešnosti s a bez použitia parametru\n",
        "def parameter_compare_auto(data, parameter):\n",
        "  diff_diffs = []\n",
        "  print('Porovnanie parametru:', parameter)\n",
        "  parms = ['use_lem','use_pos','use_stop']\n",
        "  parms.remove(parameter)\n",
        "  alfa_parm = parms[0]\n",
        "  beta_parm = parms[1]\n",
        "  columns = ['použitie '+translate_parm(alfa_parm), 'použitie '+translate_parm(beta_parm), \n",
        "             'úspešnosť s použitím '+translate_parm(parameter), 'úspešnosť bez použitia '+translate_parm(parameter), 'zvýšenie úspešnosti']\n",
        "  output = pd.DataFrame(columns=columns)\n",
        "  for alfa_bool in [True, False]:\n",
        "    for beta_bool in [True, False]:\n",
        "      diff_T = data.loc[(data[alfa_parm] == alfa_bool) & (data[beta_parm] == beta_bool) & (data[parameter] == True), 'diff'].tolist()[0]\n",
        "      diff_F = data.loc[(data[alfa_parm] == alfa_bool) & (data[beta_parm] == beta_bool) & (data[parameter] == False), 'diff'].tolist()[0]\n",
        "      line = pd.DataFrame([[translate_bool(alfa_bool), translate_bool(beta_bool), diff_T, diff_F, round(diff_T-diff_F,4)]], columns=columns)\n",
        "      output = output.append(line)\n",
        "      diff_diffs.append(diff_T-diff_F)\n",
        "  print('priemerná hodnota zvýšenia úspešnosti', round(sum(diff_diffs)/len(diff_diffs),4))\n",
        "  diff_diffs = [abs(x) for x in diff_diffs]\n",
        "  print('priemerná absolútna hodnota zvýšenia úspešnosti', round(sum(diff_diffs)/len(diff_diffs),4))\n",
        "  return output"
      ],
      "execution_count": 0,
      "outputs": []
    },
    {
      "cell_type": "markdown",
      "metadata": {
        "id": "rFb-dYJF78HK",
        "colab_type": "text"
      },
      "source": [
        "## korpusová metóda"
      ]
    },
    {
      "cell_type": "code",
      "metadata": {
        "id": "--qfKfo16sX_",
        "colab_type": "code",
        "outputId": "0075a7dc-18cb-456e-d785-ee6ee7d7a753",
        "colab": {
          "base_uri": "https://localhost:8080/",
          "height": 297
        }
      },
      "source": [
        "corpusSim_auto = auto_eval[auto_eval['method'] == 'corpusSim']\n",
        "corpusSim_auto"
      ],
      "execution_count": 0,
      "outputs": [
        {
          "output_type": "execute_result",
          "data": {
            "text/html": [
              "<div>\n",
              "<style scoped>\n",
              "    .dataframe tbody tr th:only-of-type {\n",
              "        vertical-align: middle;\n",
              "    }\n",
              "\n",
              "    .dataframe tbody tr th {\n",
              "        vertical-align: top;\n",
              "    }\n",
              "\n",
              "    .dataframe thead th {\n",
              "        text-align: right;\n",
              "    }\n",
              "</style>\n",
              "<table border=\"1\" class=\"dataframe\">\n",
              "  <thead>\n",
              "    <tr style=\"text-align: right;\">\n",
              "      <th></th>\n",
              "      <th>method</th>\n",
              "      <th>use_lem</th>\n",
              "      <th>use_pos</th>\n",
              "      <th>use_stop</th>\n",
              "      <th>diff</th>\n",
              "    </tr>\n",
              "  </thead>\n",
              "  <tbody>\n",
              "    <tr>\n",
              "      <th>0</th>\n",
              "      <td>corpusSim</td>\n",
              "      <td>True</td>\n",
              "      <td>True</td>\n",
              "      <td>True</td>\n",
              "      <td>0.1417</td>\n",
              "    </tr>\n",
              "    <tr>\n",
              "      <th>1</th>\n",
              "      <td>corpusSim</td>\n",
              "      <td>True</td>\n",
              "      <td>True</td>\n",
              "      <td>False</td>\n",
              "      <td>0.1707</td>\n",
              "    </tr>\n",
              "    <tr>\n",
              "      <th>2</th>\n",
              "      <td>corpusSim</td>\n",
              "      <td>True</td>\n",
              "      <td>False</td>\n",
              "      <td>True</td>\n",
              "      <td>0.1606</td>\n",
              "    </tr>\n",
              "    <tr>\n",
              "      <th>3</th>\n",
              "      <td>corpusSim</td>\n",
              "      <td>True</td>\n",
              "      <td>False</td>\n",
              "      <td>False</td>\n",
              "      <td>0.1706</td>\n",
              "    </tr>\n",
              "    <tr>\n",
              "      <th>4</th>\n",
              "      <td>corpusSim</td>\n",
              "      <td>False</td>\n",
              "      <td>True</td>\n",
              "      <td>True</td>\n",
              "      <td>0.1734</td>\n",
              "    </tr>\n",
              "    <tr>\n",
              "      <th>5</th>\n",
              "      <td>corpusSim</td>\n",
              "      <td>False</td>\n",
              "      <td>True</td>\n",
              "      <td>False</td>\n",
              "      <td>0.2014</td>\n",
              "    </tr>\n",
              "    <tr>\n",
              "      <th>6</th>\n",
              "      <td>corpusSim</td>\n",
              "      <td>False</td>\n",
              "      <td>False</td>\n",
              "      <td>True</td>\n",
              "      <td>0.1715</td>\n",
              "    </tr>\n",
              "    <tr>\n",
              "      <th>7</th>\n",
              "      <td>corpusSim</td>\n",
              "      <td>False</td>\n",
              "      <td>False</td>\n",
              "      <td>False</td>\n",
              "      <td>0.1780</td>\n",
              "    </tr>\n",
              "  </tbody>\n",
              "</table>\n",
              "</div>"
            ],
            "text/plain": [
              "      method  use_lem  use_pos  use_stop    diff\n",
              "0  corpusSim     True     True      True  0.1417\n",
              "1  corpusSim     True     True     False  0.1707\n",
              "2  corpusSim     True    False      True  0.1606\n",
              "3  corpusSim     True    False     False  0.1706\n",
              "4  corpusSim    False     True      True  0.1734\n",
              "5  corpusSim    False     True     False  0.2014\n",
              "6  corpusSim    False    False      True  0.1715\n",
              "7  corpusSim    False    False     False  0.1780"
            ]
          },
          "metadata": {
            "tags": []
          },
          "execution_count": 13
        }
      ]
    },
    {
      "cell_type": "markdown",
      "metadata": {
        "id": "B7D29bxv8lrX",
        "colab_type": "text"
      },
      "source": [
        "**Výsledky automatickej evaluácie korpusovej metódy**"
      ]
    },
    {
      "cell_type": "markdown",
      "metadata": {
        "id": "kZAy-mLYcRQa",
        "colab_type": "text"
      },
      "source": [
        "### 1. parameter"
      ]
    },
    {
      "cell_type": "code",
      "metadata": {
        "id": "kpVfS-7n9KbH",
        "colab_type": "code",
        "outputId": "e2b8c18a-c41e-4544-8f66-48412637e897",
        "colab": {
          "base_uri": "https://localhost:8080/",
          "height": 224
        }
      },
      "source": [
        "parameter_compare_auto(corpusSim_auto, 'use_lem')"
      ],
      "execution_count": 0,
      "outputs": [
        {
          "output_type": "stream",
          "text": [
            "Porovnanie parametru: use_lem\n",
            "priemerná hodnota zvýšenia úspešnosti -0.0202\n",
            "priemerná absolútna hodnota zvýšenia úspešnosti 0.0202\n"
          ],
          "name": "stdout"
        },
        {
          "output_type": "execute_result",
          "data": {
            "text/html": [
              "<div>\n",
              "<style scoped>\n",
              "    .dataframe tbody tr th:only-of-type {\n",
              "        vertical-align: middle;\n",
              "    }\n",
              "\n",
              "    .dataframe tbody tr th {\n",
              "        vertical-align: top;\n",
              "    }\n",
              "\n",
              "    .dataframe thead th {\n",
              "        text-align: right;\n",
              "    }\n",
              "</style>\n",
              "<table border=\"1\" class=\"dataframe\">\n",
              "  <thead>\n",
              "    <tr style=\"text-align: right;\">\n",
              "      <th></th>\n",
              "      <th>použitie slovných druhov</th>\n",
              "      <th>použitie stop slov</th>\n",
              "      <th>úspešnosť s použitím lematizácie</th>\n",
              "      <th>úspešnosť bez použitia lematizácie</th>\n",
              "      <th>zvýšenie úspešnosti</th>\n",
              "    </tr>\n",
              "  </thead>\n",
              "  <tbody>\n",
              "    <tr>\n",
              "      <th>0</th>\n",
              "      <td>áno</td>\n",
              "      <td>áno</td>\n",
              "      <td>0.1417</td>\n",
              "      <td>0.1734</td>\n",
              "      <td>-0.0317</td>\n",
              "    </tr>\n",
              "    <tr>\n",
              "      <th>0</th>\n",
              "      <td>áno</td>\n",
              "      <td>nie</td>\n",
              "      <td>0.1707</td>\n",
              "      <td>0.2014</td>\n",
              "      <td>-0.0307</td>\n",
              "    </tr>\n",
              "    <tr>\n",
              "      <th>0</th>\n",
              "      <td>nie</td>\n",
              "      <td>áno</td>\n",
              "      <td>0.1606</td>\n",
              "      <td>0.1715</td>\n",
              "      <td>-0.0109</td>\n",
              "    </tr>\n",
              "    <tr>\n",
              "      <th>0</th>\n",
              "      <td>nie</td>\n",
              "      <td>nie</td>\n",
              "      <td>0.1706</td>\n",
              "      <td>0.1780</td>\n",
              "      <td>-0.0074</td>\n",
              "    </tr>\n",
              "  </tbody>\n",
              "</table>\n",
              "</div>"
            ],
            "text/plain": [
              "  použitie slovných druhov použitie stop slov  \\\n",
              "0                      áno                áno   \n",
              "0                      áno                nie   \n",
              "0                      nie                áno   \n",
              "0                      nie                nie   \n",
              "\n",
              "   úspešnosť s použitím lematizácie  úspešnosť bez použitia lematizácie  \\\n",
              "0                            0.1417                              0.1734   \n",
              "0                            0.1707                              0.2014   \n",
              "0                            0.1606                              0.1715   \n",
              "0                            0.1706                              0.1780   \n",
              "\n",
              "   zvýšenie úspešnosti  \n",
              "0              -0.0317  \n",
              "0              -0.0307  \n",
              "0              -0.0109  \n",
              "0              -0.0074  "
            ]
          },
          "metadata": {
            "tags": []
          },
          "execution_count": 14
        }
      ]
    },
    {
      "cell_type": "markdown",
      "metadata": {
        "id": "kBMPqS94T0XH",
        "colab_type": "text"
      },
      "source": [
        "**Použitie lematizácie pri korpusovej metóde znižuje úspešnosť**"
      ]
    },
    {
      "cell_type": "markdown",
      "metadata": {
        "id": "YWrSVQ1TcWY0",
        "colab_type": "text"
      },
      "source": [
        "### 2. parameter"
      ]
    },
    {
      "cell_type": "code",
      "metadata": {
        "id": "0awYKOi19VWf",
        "colab_type": "code",
        "outputId": "993fe8f4-a570-43cf-ec96-6e46088b4c72",
        "colab": {
          "base_uri": "https://localhost:8080/",
          "height": 224
        }
      },
      "source": [
        "parameter_compare_auto(corpusSim_auto, 'use_stop')"
      ],
      "execution_count": 0,
      "outputs": [
        {
          "output_type": "stream",
          "text": [
            "Porovnanie parametru: use_stop\n",
            "priemerná hodnota zvýšenia úspešnosti -0.0184\n",
            "priemerná absolútna hodnota zvýšenia úspešnosti 0.0184\n"
          ],
          "name": "stdout"
        },
        {
          "output_type": "execute_result",
          "data": {
            "text/html": [
              "<div>\n",
              "<style scoped>\n",
              "    .dataframe tbody tr th:only-of-type {\n",
              "        vertical-align: middle;\n",
              "    }\n",
              "\n",
              "    .dataframe tbody tr th {\n",
              "        vertical-align: top;\n",
              "    }\n",
              "\n",
              "    .dataframe thead th {\n",
              "        text-align: right;\n",
              "    }\n",
              "</style>\n",
              "<table border=\"1\" class=\"dataframe\">\n",
              "  <thead>\n",
              "    <tr style=\"text-align: right;\">\n",
              "      <th></th>\n",
              "      <th>použitie lematizácie</th>\n",
              "      <th>použitie slovných druhov</th>\n",
              "      <th>úspešnosť s použitím stop slov</th>\n",
              "      <th>úspešnosť bez použitia stop slov</th>\n",
              "      <th>zvýšenie úspešnosti</th>\n",
              "    </tr>\n",
              "  </thead>\n",
              "  <tbody>\n",
              "    <tr>\n",
              "      <th>0</th>\n",
              "      <td>áno</td>\n",
              "      <td>áno</td>\n",
              "      <td>0.1417</td>\n",
              "      <td>0.1707</td>\n",
              "      <td>-0.0290</td>\n",
              "    </tr>\n",
              "    <tr>\n",
              "      <th>0</th>\n",
              "      <td>áno</td>\n",
              "      <td>nie</td>\n",
              "      <td>0.1606</td>\n",
              "      <td>0.1706</td>\n",
              "      <td>-0.0100</td>\n",
              "    </tr>\n",
              "    <tr>\n",
              "      <th>0</th>\n",
              "      <td>nie</td>\n",
              "      <td>áno</td>\n",
              "      <td>0.1734</td>\n",
              "      <td>0.2014</td>\n",
              "      <td>-0.0280</td>\n",
              "    </tr>\n",
              "    <tr>\n",
              "      <th>0</th>\n",
              "      <td>nie</td>\n",
              "      <td>nie</td>\n",
              "      <td>0.1715</td>\n",
              "      <td>0.1780</td>\n",
              "      <td>-0.0065</td>\n",
              "    </tr>\n",
              "  </tbody>\n",
              "</table>\n",
              "</div>"
            ],
            "text/plain": [
              "  použitie lematizácie použitie slovných druhov  \\\n",
              "0                  áno                      áno   \n",
              "0                  áno                      nie   \n",
              "0                  nie                      áno   \n",
              "0                  nie                      nie   \n",
              "\n",
              "   úspešnosť s použitím stop slov  úspešnosť bez použitia stop slov  \\\n",
              "0                          0.1417                            0.1707   \n",
              "0                          0.1606                            0.1706   \n",
              "0                          0.1734                            0.2014   \n",
              "0                          0.1715                            0.1780   \n",
              "\n",
              "   zvýšenie úspešnosti  \n",
              "0              -0.0290  \n",
              "0              -0.0100  \n",
              "0              -0.0280  \n",
              "0              -0.0065  "
            ]
          },
          "metadata": {
            "tags": []
          },
          "execution_count": 15
        }
      ]
    },
    {
      "cell_type": "markdown",
      "metadata": {
        "id": "3kp7vD2pTlF2",
        "colab_type": "text"
      },
      "source": [
        "**Použitie stop slov pri korpusovej metóde znižuje úspešnosť** \n"
      ]
    },
    {
      "cell_type": "markdown",
      "metadata": {
        "id": "AHChNGnJcYeR",
        "colab_type": "text"
      },
      "source": [
        "### 3. parameter"
      ]
    },
    {
      "cell_type": "code",
      "metadata": {
        "id": "ydlNHlgA9Up0",
        "colab_type": "code",
        "outputId": "b08ffe80-7cf4-4218-f861-cfb295478e75",
        "colab": {
          "base_uri": "https://localhost:8080/",
          "height": 224
        }
      },
      "source": [
        "parameter_compare_auto(corpusSim_auto, 'use_pos')"
      ],
      "execution_count": 0,
      "outputs": [
        {
          "output_type": "stream",
          "text": [
            "Porovnanie parametru: use_pos\n",
            "priemerná hodnota zvýšenia úspešnosti 0.0016\n",
            "priemerná absolútna hodnota zvýšenia úspešnosti 0.0111\n"
          ],
          "name": "stdout"
        },
        {
          "output_type": "execute_result",
          "data": {
            "text/html": [
              "<div>\n",
              "<style scoped>\n",
              "    .dataframe tbody tr th:only-of-type {\n",
              "        vertical-align: middle;\n",
              "    }\n",
              "\n",
              "    .dataframe tbody tr th {\n",
              "        vertical-align: top;\n",
              "    }\n",
              "\n",
              "    .dataframe thead th {\n",
              "        text-align: right;\n",
              "    }\n",
              "</style>\n",
              "<table border=\"1\" class=\"dataframe\">\n",
              "  <thead>\n",
              "    <tr style=\"text-align: right;\">\n",
              "      <th></th>\n",
              "      <th>použitie lematizácie</th>\n",
              "      <th>použitie stop slov</th>\n",
              "      <th>úspešnosť s použitím slovných druhov</th>\n",
              "      <th>úspešnosť bez použitia slovných druhov</th>\n",
              "      <th>zvýšenie úspešnosti</th>\n",
              "    </tr>\n",
              "  </thead>\n",
              "  <tbody>\n",
              "    <tr>\n",
              "      <th>0</th>\n",
              "      <td>áno</td>\n",
              "      <td>áno</td>\n",
              "      <td>0.1417</td>\n",
              "      <td>0.1606</td>\n",
              "      <td>-0.0189</td>\n",
              "    </tr>\n",
              "    <tr>\n",
              "      <th>0</th>\n",
              "      <td>áno</td>\n",
              "      <td>nie</td>\n",
              "      <td>0.1707</td>\n",
              "      <td>0.1706</td>\n",
              "      <td>0.0001</td>\n",
              "    </tr>\n",
              "    <tr>\n",
              "      <th>0</th>\n",
              "      <td>nie</td>\n",
              "      <td>áno</td>\n",
              "      <td>0.1734</td>\n",
              "      <td>0.1715</td>\n",
              "      <td>0.0019</td>\n",
              "    </tr>\n",
              "    <tr>\n",
              "      <th>0</th>\n",
              "      <td>nie</td>\n",
              "      <td>nie</td>\n",
              "      <td>0.2014</td>\n",
              "      <td>0.1780</td>\n",
              "      <td>0.0234</td>\n",
              "    </tr>\n",
              "  </tbody>\n",
              "</table>\n",
              "</div>"
            ],
            "text/plain": [
              "  použitie lematizácie použitie stop slov  \\\n",
              "0                  áno                áno   \n",
              "0                  áno                nie   \n",
              "0                  nie                áno   \n",
              "0                  nie                nie   \n",
              "\n",
              "   úspešnosť s použitím slovných druhov  \\\n",
              "0                                0.1417   \n",
              "0                                0.1707   \n",
              "0                                0.1734   \n",
              "0                                0.2014   \n",
              "\n",
              "   úspešnosť bez použitia slovných druhov  zvýšenie úspešnosti  \n",
              "0                                  0.1606              -0.0189  \n",
              "0                                  0.1706               0.0001  \n",
              "0                                  0.1715               0.0019  \n",
              "0                                  0.1780               0.0234  "
            ]
          },
          "metadata": {
            "tags": []
          },
          "execution_count": 16
        }
      ]
    },
    {
      "cell_type": "markdown",
      "metadata": {
        "id": "mhfwIsV3TG_I",
        "colab_type": "text"
      },
      "source": [
        "**Použitie slovných druhov pri korpusovej metóde zvyšuje úspešnosť** **- okrem použitia s lematizáciou a stop slovami**\n"
      ]
    },
    {
      "cell_type": "markdown",
      "metadata": {
        "id": "burqnkN8797n",
        "colab_type": "text"
      },
      "source": [
        "## znalostná metóda"
      ]
    },
    {
      "cell_type": "code",
      "metadata": {
        "id": "fE1tnTro8Bb6",
        "colab_type": "code",
        "outputId": "013a932f-9be4-4f80-8f87-a5335abb6034",
        "colab": {
          "base_uri": "https://localhost:8080/",
          "height": 297
        }
      },
      "source": [
        "knowledgeSim_auto = auto_eval[auto_eval['method'] == 'knowledgeSim']\n",
        "knowledgeSim_auto"
      ],
      "execution_count": 0,
      "outputs": [
        {
          "output_type": "execute_result",
          "data": {
            "text/html": [
              "<div>\n",
              "<style scoped>\n",
              "    .dataframe tbody tr th:only-of-type {\n",
              "        vertical-align: middle;\n",
              "    }\n",
              "\n",
              "    .dataframe tbody tr th {\n",
              "        vertical-align: top;\n",
              "    }\n",
              "\n",
              "    .dataframe thead th {\n",
              "        text-align: right;\n",
              "    }\n",
              "</style>\n",
              "<table border=\"1\" class=\"dataframe\">\n",
              "  <thead>\n",
              "    <tr style=\"text-align: right;\">\n",
              "      <th></th>\n",
              "      <th>method</th>\n",
              "      <th>use_lem</th>\n",
              "      <th>use_pos</th>\n",
              "      <th>use_stop</th>\n",
              "      <th>diff</th>\n",
              "    </tr>\n",
              "  </thead>\n",
              "  <tbody>\n",
              "    <tr>\n",
              "      <th>8</th>\n",
              "      <td>knowledgeSim</td>\n",
              "      <td>True</td>\n",
              "      <td>True</td>\n",
              "      <td>True</td>\n",
              "      <td>0.1378</td>\n",
              "    </tr>\n",
              "    <tr>\n",
              "      <th>9</th>\n",
              "      <td>knowledgeSim</td>\n",
              "      <td>True</td>\n",
              "      <td>True</td>\n",
              "      <td>False</td>\n",
              "      <td>0.1812</td>\n",
              "    </tr>\n",
              "    <tr>\n",
              "      <th>10</th>\n",
              "      <td>knowledgeSim</td>\n",
              "      <td>True</td>\n",
              "      <td>False</td>\n",
              "      <td>True</td>\n",
              "      <td>0.1454</td>\n",
              "    </tr>\n",
              "    <tr>\n",
              "      <th>11</th>\n",
              "      <td>knowledgeSim</td>\n",
              "      <td>True</td>\n",
              "      <td>False</td>\n",
              "      <td>False</td>\n",
              "      <td>0.1614</td>\n",
              "    </tr>\n",
              "    <tr>\n",
              "      <th>12</th>\n",
              "      <td>knowledgeSim</td>\n",
              "      <td>False</td>\n",
              "      <td>True</td>\n",
              "      <td>True</td>\n",
              "      <td>0.1622</td>\n",
              "    </tr>\n",
              "    <tr>\n",
              "      <th>13</th>\n",
              "      <td>knowledgeSim</td>\n",
              "      <td>False</td>\n",
              "      <td>True</td>\n",
              "      <td>False</td>\n",
              "      <td>0.1540</td>\n",
              "    </tr>\n",
              "    <tr>\n",
              "      <th>14</th>\n",
              "      <td>knowledgeSim</td>\n",
              "      <td>False</td>\n",
              "      <td>False</td>\n",
              "      <td>True</td>\n",
              "      <td>0.1368</td>\n",
              "    </tr>\n",
              "    <tr>\n",
              "      <th>15</th>\n",
              "      <td>knowledgeSim</td>\n",
              "      <td>False</td>\n",
              "      <td>False</td>\n",
              "      <td>False</td>\n",
              "      <td>0.1369</td>\n",
              "    </tr>\n",
              "  </tbody>\n",
              "</table>\n",
              "</div>"
            ],
            "text/plain": [
              "          method  use_lem  use_pos  use_stop    diff\n",
              "8   knowledgeSim     True     True      True  0.1378\n",
              "9   knowledgeSim     True     True     False  0.1812\n",
              "10  knowledgeSim     True    False      True  0.1454\n",
              "11  knowledgeSim     True    False     False  0.1614\n",
              "12  knowledgeSim    False     True      True  0.1622\n",
              "13  knowledgeSim    False     True     False  0.1540\n",
              "14  knowledgeSim    False    False      True  0.1368\n",
              "15  knowledgeSim    False    False     False  0.1369"
            ]
          },
          "metadata": {
            "tags": []
          },
          "execution_count": 17
        }
      ]
    },
    {
      "cell_type": "markdown",
      "metadata": {
        "id": "pbPYK7AU8qNj",
        "colab_type": "text"
      },
      "source": [
        "**Výsledky automatickej evaluácie znalostnej metódy**"
      ]
    },
    {
      "cell_type": "markdown",
      "metadata": {
        "id": "obdhsKoxcyhS",
        "colab_type": "text"
      },
      "source": [
        "### 1. parameter"
      ]
    },
    {
      "cell_type": "code",
      "metadata": {
        "id": "Yz34N_-RAPfR",
        "colab_type": "code",
        "outputId": "b59090d8-aa08-4ca3-9095-2c0081083c98",
        "colab": {
          "base_uri": "https://localhost:8080/",
          "height": 224
        }
      },
      "source": [
        "parameter_compare_auto(knowledgeSim_auto, 'use_pos')"
      ],
      "execution_count": 0,
      "outputs": [
        {
          "output_type": "stream",
          "text": [
            "Porovnanie parametru: use_pos\n",
            "priemerná hodnota zvýšenia úspešnosti 0.0137\n",
            "priemerná absolútna hodnota zvýšenia úspešnosti 0.0175\n"
          ],
          "name": "stdout"
        },
        {
          "output_type": "execute_result",
          "data": {
            "text/html": [
              "<div>\n",
              "<style scoped>\n",
              "    .dataframe tbody tr th:only-of-type {\n",
              "        vertical-align: middle;\n",
              "    }\n",
              "\n",
              "    .dataframe tbody tr th {\n",
              "        vertical-align: top;\n",
              "    }\n",
              "\n",
              "    .dataframe thead th {\n",
              "        text-align: right;\n",
              "    }\n",
              "</style>\n",
              "<table border=\"1\" class=\"dataframe\">\n",
              "  <thead>\n",
              "    <tr style=\"text-align: right;\">\n",
              "      <th></th>\n",
              "      <th>použitie lematizácie</th>\n",
              "      <th>použitie stop slov</th>\n",
              "      <th>úspešnosť s použitím slovných druhov</th>\n",
              "      <th>úspešnosť bez použitia slovných druhov</th>\n",
              "      <th>zvýšenie úspešnosti</th>\n",
              "    </tr>\n",
              "  </thead>\n",
              "  <tbody>\n",
              "    <tr>\n",
              "      <th>0</th>\n",
              "      <td>áno</td>\n",
              "      <td>áno</td>\n",
              "      <td>0.1378</td>\n",
              "      <td>0.1454</td>\n",
              "      <td>-0.0076</td>\n",
              "    </tr>\n",
              "    <tr>\n",
              "      <th>0</th>\n",
              "      <td>áno</td>\n",
              "      <td>nie</td>\n",
              "      <td>0.1812</td>\n",
              "      <td>0.1614</td>\n",
              "      <td>0.0198</td>\n",
              "    </tr>\n",
              "    <tr>\n",
              "      <th>0</th>\n",
              "      <td>nie</td>\n",
              "      <td>áno</td>\n",
              "      <td>0.1622</td>\n",
              "      <td>0.1368</td>\n",
              "      <td>0.0254</td>\n",
              "    </tr>\n",
              "    <tr>\n",
              "      <th>0</th>\n",
              "      <td>nie</td>\n",
              "      <td>nie</td>\n",
              "      <td>0.1540</td>\n",
              "      <td>0.1369</td>\n",
              "      <td>0.0171</td>\n",
              "    </tr>\n",
              "  </tbody>\n",
              "</table>\n",
              "</div>"
            ],
            "text/plain": [
              "  použitie lematizácie použitie stop slov  \\\n",
              "0                  áno                áno   \n",
              "0                  áno                nie   \n",
              "0                  nie                áno   \n",
              "0                  nie                nie   \n",
              "\n",
              "   úspešnosť s použitím slovných druhov  \\\n",
              "0                                0.1378   \n",
              "0                                0.1812   \n",
              "0                                0.1622   \n",
              "0                                0.1540   \n",
              "\n",
              "   úspešnosť bez použitia slovných druhov  zvýšenie úspešnosti  \n",
              "0                                  0.1454              -0.0076  \n",
              "0                                  0.1614               0.0198  \n",
              "0                                  0.1368               0.0254  \n",
              "0                                  0.1369               0.0171  "
            ]
          },
          "metadata": {
            "tags": []
          },
          "execution_count": 18
        }
      ]
    },
    {
      "cell_type": "markdown",
      "metadata": {
        "id": "C9noEVGrVWu5",
        "colab_type": "text"
      },
      "source": [
        "**Použitie slovných druhov pri znalostnej metóde zvyšuje úspešnosť** **- okrem použitia s lematizáciou a stop slovami**"
      ]
    },
    {
      "cell_type": "markdown",
      "metadata": {
        "id": "xcGVR2RJcy-B",
        "colab_type": "text"
      },
      "source": [
        "### 2. parameter"
      ]
    },
    {
      "cell_type": "code",
      "metadata": {
        "id": "tNUBK3MWAVIm",
        "colab_type": "code",
        "outputId": "41f9b494-4c13-427c-d074-86ef623b88a1",
        "colab": {
          "base_uri": "https://localhost:8080/",
          "height": 224
        }
      },
      "source": [
        "parameter_compare_auto(knowledgeSim_auto, 'use_stop')"
      ],
      "execution_count": 0,
      "outputs": [
        {
          "output_type": "stream",
          "text": [
            "Porovnanie parametru: use_stop\n",
            "priemerná hodnota zvýšenia úspešnosti -0.0128\n",
            "priemerná absolútna hodnota zvýšenia úspešnosti 0.0169\n"
          ],
          "name": "stdout"
        },
        {
          "output_type": "execute_result",
          "data": {
            "text/html": [
              "<div>\n",
              "<style scoped>\n",
              "    .dataframe tbody tr th:only-of-type {\n",
              "        vertical-align: middle;\n",
              "    }\n",
              "\n",
              "    .dataframe tbody tr th {\n",
              "        vertical-align: top;\n",
              "    }\n",
              "\n",
              "    .dataframe thead th {\n",
              "        text-align: right;\n",
              "    }\n",
              "</style>\n",
              "<table border=\"1\" class=\"dataframe\">\n",
              "  <thead>\n",
              "    <tr style=\"text-align: right;\">\n",
              "      <th></th>\n",
              "      <th>použitie lematizácie</th>\n",
              "      <th>použitie slovných druhov</th>\n",
              "      <th>úspešnosť s použitím stop slov</th>\n",
              "      <th>úspešnosť bez použitia stop slov</th>\n",
              "      <th>zvýšenie úspešnosti</th>\n",
              "    </tr>\n",
              "  </thead>\n",
              "  <tbody>\n",
              "    <tr>\n",
              "      <th>0</th>\n",
              "      <td>áno</td>\n",
              "      <td>áno</td>\n",
              "      <td>0.1378</td>\n",
              "      <td>0.1812</td>\n",
              "      <td>-0.0434</td>\n",
              "    </tr>\n",
              "    <tr>\n",
              "      <th>0</th>\n",
              "      <td>áno</td>\n",
              "      <td>nie</td>\n",
              "      <td>0.1454</td>\n",
              "      <td>0.1614</td>\n",
              "      <td>-0.0160</td>\n",
              "    </tr>\n",
              "    <tr>\n",
              "      <th>0</th>\n",
              "      <td>nie</td>\n",
              "      <td>áno</td>\n",
              "      <td>0.1622</td>\n",
              "      <td>0.1540</td>\n",
              "      <td>0.0082</td>\n",
              "    </tr>\n",
              "    <tr>\n",
              "      <th>0</th>\n",
              "      <td>nie</td>\n",
              "      <td>nie</td>\n",
              "      <td>0.1368</td>\n",
              "      <td>0.1369</td>\n",
              "      <td>-0.0001</td>\n",
              "    </tr>\n",
              "  </tbody>\n",
              "</table>\n",
              "</div>"
            ],
            "text/plain": [
              "  použitie lematizácie použitie slovných druhov  \\\n",
              "0                  áno                      áno   \n",
              "0                  áno                      nie   \n",
              "0                  nie                      áno   \n",
              "0                  nie                      nie   \n",
              "\n",
              "   úspešnosť s použitím stop slov  úspešnosť bez použitia stop slov  \\\n",
              "0                          0.1378                            0.1812   \n",
              "0                          0.1454                            0.1614   \n",
              "0                          0.1622                            0.1540   \n",
              "0                          0.1368                            0.1369   \n",
              "\n",
              "   zvýšenie úspešnosti  \n",
              "0              -0.0434  \n",
              "0              -0.0160  \n",
              "0               0.0082  \n",
              "0              -0.0001  "
            ]
          },
          "metadata": {
            "tags": []
          },
          "execution_count": 19
        }
      ]
    },
    {
      "cell_type": "markdown",
      "metadata": {
        "id": "cBrrEdz2VojV",
        "colab_type": "text"
      },
      "source": [
        "**Použitie stop slov pri znalostnej metóde znižuje úspešnosť** **- okrem použitia so slovnými druhmi a bez lematizácie**"
      ]
    },
    {
      "cell_type": "markdown",
      "metadata": {
        "id": "7aMqS-tAczYO",
        "colab_type": "text"
      },
      "source": [
        "### 3. parameter"
      ]
    },
    {
      "cell_type": "code",
      "metadata": {
        "id": "qRAfmqYKAVkg",
        "colab_type": "code",
        "outputId": "64675d1b-3efd-4ceb-e590-3e853e5a1075",
        "colab": {
          "base_uri": "https://localhost:8080/",
          "height": 224
        }
      },
      "source": [
        "parameter_compare_auto(knowledgeSim_auto, 'use_lem')"
      ],
      "execution_count": 0,
      "outputs": [
        {
          "output_type": "stream",
          "text": [
            "Porovnanie parametru: use_lem\n",
            "priemerná hodnota zvýšenia úspešnosti 0.009\n",
            "priemerná absolútna hodnota zvýšenia úspešnosti 0.0212\n"
          ],
          "name": "stdout"
        },
        {
          "output_type": "execute_result",
          "data": {
            "text/html": [
              "<div>\n",
              "<style scoped>\n",
              "    .dataframe tbody tr th:only-of-type {\n",
              "        vertical-align: middle;\n",
              "    }\n",
              "\n",
              "    .dataframe tbody tr th {\n",
              "        vertical-align: top;\n",
              "    }\n",
              "\n",
              "    .dataframe thead th {\n",
              "        text-align: right;\n",
              "    }\n",
              "</style>\n",
              "<table border=\"1\" class=\"dataframe\">\n",
              "  <thead>\n",
              "    <tr style=\"text-align: right;\">\n",
              "      <th></th>\n",
              "      <th>použitie slovných druhov</th>\n",
              "      <th>použitie stop slov</th>\n",
              "      <th>úspešnosť s použitím lematizácie</th>\n",
              "      <th>úspešnosť bez použitia lematizácie</th>\n",
              "      <th>zvýšenie úspešnosti</th>\n",
              "    </tr>\n",
              "  </thead>\n",
              "  <tbody>\n",
              "    <tr>\n",
              "      <th>0</th>\n",
              "      <td>áno</td>\n",
              "      <td>áno</td>\n",
              "      <td>0.1378</td>\n",
              "      <td>0.1622</td>\n",
              "      <td>-0.0244</td>\n",
              "    </tr>\n",
              "    <tr>\n",
              "      <th>0</th>\n",
              "      <td>áno</td>\n",
              "      <td>nie</td>\n",
              "      <td>0.1812</td>\n",
              "      <td>0.1540</td>\n",
              "      <td>0.0272</td>\n",
              "    </tr>\n",
              "    <tr>\n",
              "      <th>0</th>\n",
              "      <td>nie</td>\n",
              "      <td>áno</td>\n",
              "      <td>0.1454</td>\n",
              "      <td>0.1368</td>\n",
              "      <td>0.0086</td>\n",
              "    </tr>\n",
              "    <tr>\n",
              "      <th>0</th>\n",
              "      <td>nie</td>\n",
              "      <td>nie</td>\n",
              "      <td>0.1614</td>\n",
              "      <td>0.1369</td>\n",
              "      <td>0.0245</td>\n",
              "    </tr>\n",
              "  </tbody>\n",
              "</table>\n",
              "</div>"
            ],
            "text/plain": [
              "  použitie slovných druhov použitie stop slov  \\\n",
              "0                      áno                áno   \n",
              "0                      áno                nie   \n",
              "0                      nie                áno   \n",
              "0                      nie                nie   \n",
              "\n",
              "   úspešnosť s použitím lematizácie  úspešnosť bez použitia lematizácie  \\\n",
              "0                            0.1378                              0.1622   \n",
              "0                            0.1812                              0.1540   \n",
              "0                            0.1454                              0.1368   \n",
              "0                            0.1614                              0.1369   \n",
              "\n",
              "   zvýšenie úspešnosti  \n",
              "0              -0.0244  \n",
              "0               0.0272  \n",
              "0               0.0086  \n",
              "0               0.0245  "
            ]
          },
          "metadata": {
            "tags": []
          },
          "execution_count": 20
        }
      ]
    },
    {
      "cell_type": "markdown",
      "metadata": {
        "id": "N7Z8WJazUeh_",
        "colab_type": "text"
      },
      "source": [
        "**Použitie lematizácie pri znalostnej metóde zvyšuje úspešnosť** **- okrem použitia so slovnými druhmi a stop slovami**"
      ]
    },
    {
      "cell_type": "markdown",
      "metadata": {
        "id": "y884r6a1TpZB",
        "colab_type": "text"
      },
      "source": [
        "# Analýza výsledkov manuálnej evaluácie"
      ]
    },
    {
      "cell_type": "code",
      "metadata": {
        "id": "dQIvDsKF-rDG",
        "colab_type": "code",
        "colab": {}
      },
      "source": [
        "man_eval = pd.read_excel(\"results.xlsx\", sheet_name=\"man-eval\")"
      ],
      "execution_count": 0,
      "outputs": []
    },
    {
      "cell_type": "code",
      "metadata": {
        "id": "HNRgS9VnUQAK",
        "colab_type": "code",
        "colab": {}
      },
      "source": [
        "# Funkcia vypíše porovnanie chyby s a bez použitia parametru\n",
        "def parameter_compare_man(data, parameter):\n",
        "  error_diffs = []\n",
        "  print('Porovnanie parametru:', parameter)\n",
        "  parms = ['use_lem','use_pos','use_stop']\n",
        "  parms.remove(parameter)\n",
        "  alfa_parm = parms[0]\n",
        "  beta_parm = parms[1]\n",
        "  columns = ['použitie '+translate_parm(alfa_parm), 'použitie '+translate_parm(beta_parm), \n",
        "             'úspešnosť s použitím '+translate_parm(parameter), 'úspešnosť bez použitia '+translate_parm(parameter), 'zníženie chyby']\n",
        "  output = pd.DataFrame(columns=columns)\n",
        "  for alfa_bool in [True, False]:\n",
        "    for beta_bool in [True, False]:\n",
        "      error_T = data.loc[(data[alfa_parm] == alfa_bool) & (data[beta_parm] == beta_bool) & (data[parameter] == True), 'error'].tolist()[0]\n",
        "      error_F = data.loc[(data[alfa_parm] == alfa_bool) & (data[beta_parm] == beta_bool) & (data[parameter] == False), 'error'].tolist()[0]\n",
        "      line = pd.DataFrame([[translate_bool(alfa_bool), translate_bool(beta_bool), error_T, error_F, round(error_F-error_T,4)]], columns=columns)\n",
        "      output = output.append(line)\n",
        "      error_diffs.append(error_F-error_T)\n",
        "  print('priemerná hodnota zvýšenia úspešnosti', round(sum(error_diffs)/len(error_diffs),4))\n",
        "  error_diffs = [abs(x) for x in error_diffs]\n",
        "  print('priemerná absolútna hodnota zvýšenia úspešnosti', round(sum(error_diffs)/len(error_diffs),4))\n",
        "  return output"
      ],
      "execution_count": 0,
      "outputs": []
    },
    {
      "cell_type": "markdown",
      "metadata": {
        "id": "2Y3f2sWKtFUM",
        "colab_type": "text"
      },
      "source": [
        "## korpusová metóda"
      ]
    },
    {
      "cell_type": "code",
      "metadata": {
        "id": "Ftt_kzfwR4Tn",
        "colab_type": "code",
        "outputId": "b1c1013e-b814-436a-e66a-a1e338530e56",
        "colab": {
          "base_uri": "https://localhost:8080/",
          "height": 297
        }
      },
      "source": [
        "corpusSim_man = man_eval[man_eval['method'] == 'corpusSim']\n",
        "corpusSim_man"
      ],
      "execution_count": 0,
      "outputs": [
        {
          "output_type": "execute_result",
          "data": {
            "text/html": [
              "<div>\n",
              "<style scoped>\n",
              "    .dataframe tbody tr th:only-of-type {\n",
              "        vertical-align: middle;\n",
              "    }\n",
              "\n",
              "    .dataframe tbody tr th {\n",
              "        vertical-align: top;\n",
              "    }\n",
              "\n",
              "    .dataframe thead th {\n",
              "        text-align: right;\n",
              "    }\n",
              "</style>\n",
              "<table border=\"1\" class=\"dataframe\">\n",
              "  <thead>\n",
              "    <tr style=\"text-align: right;\">\n",
              "      <th></th>\n",
              "      <th>method</th>\n",
              "      <th>use_lem</th>\n",
              "      <th>use_pos</th>\n",
              "      <th>use_stop</th>\n",
              "      <th>error</th>\n",
              "    </tr>\n",
              "  </thead>\n",
              "  <tbody>\n",
              "    <tr>\n",
              "      <th>0</th>\n",
              "      <td>corpusSim</td>\n",
              "      <td>True</td>\n",
              "      <td>True</td>\n",
              "      <td>True</td>\n",
              "      <td>0.1541</td>\n",
              "    </tr>\n",
              "    <tr>\n",
              "      <th>1</th>\n",
              "      <td>corpusSim</td>\n",
              "      <td>True</td>\n",
              "      <td>True</td>\n",
              "      <td>False</td>\n",
              "      <td>0.1597</td>\n",
              "    </tr>\n",
              "    <tr>\n",
              "      <th>2</th>\n",
              "      <td>corpusSim</td>\n",
              "      <td>True</td>\n",
              "      <td>False</td>\n",
              "      <td>True</td>\n",
              "      <td>0.1593</td>\n",
              "    </tr>\n",
              "    <tr>\n",
              "      <th>3</th>\n",
              "      <td>corpusSim</td>\n",
              "      <td>True</td>\n",
              "      <td>False</td>\n",
              "      <td>False</td>\n",
              "      <td>0.1570</td>\n",
              "    </tr>\n",
              "    <tr>\n",
              "      <th>4</th>\n",
              "      <td>corpusSim</td>\n",
              "      <td>False</td>\n",
              "      <td>True</td>\n",
              "      <td>True</td>\n",
              "      <td>0.1746</td>\n",
              "    </tr>\n",
              "    <tr>\n",
              "      <th>5</th>\n",
              "      <td>corpusSim</td>\n",
              "      <td>False</td>\n",
              "      <td>True</td>\n",
              "      <td>False</td>\n",
              "      <td>0.1980</td>\n",
              "    </tr>\n",
              "    <tr>\n",
              "      <th>6</th>\n",
              "      <td>corpusSim</td>\n",
              "      <td>False</td>\n",
              "      <td>False</td>\n",
              "      <td>True</td>\n",
              "      <td>0.1663</td>\n",
              "    </tr>\n",
              "    <tr>\n",
              "      <th>7</th>\n",
              "      <td>corpusSim</td>\n",
              "      <td>False</td>\n",
              "      <td>False</td>\n",
              "      <td>False</td>\n",
              "      <td>0.1666</td>\n",
              "    </tr>\n",
              "  </tbody>\n",
              "</table>\n",
              "</div>"
            ],
            "text/plain": [
              "      method  use_lem  use_pos  use_stop   error\n",
              "0  corpusSim     True     True      True  0.1541\n",
              "1  corpusSim     True     True     False  0.1597\n",
              "2  corpusSim     True    False      True  0.1593\n",
              "3  corpusSim     True    False     False  0.1570\n",
              "4  corpusSim    False     True      True  0.1746\n",
              "5  corpusSim    False     True     False  0.1980\n",
              "6  corpusSim    False    False      True  0.1663\n",
              "7  corpusSim    False    False     False  0.1666"
            ]
          },
          "metadata": {
            "tags": []
          },
          "execution_count": 23
        }
      ]
    },
    {
      "cell_type": "markdown",
      "metadata": {
        "id": "3tCUzs-YTr8e",
        "colab_type": "text"
      },
      "source": [
        "**Výsledky manuálnej evaluácie korpusovej metódy**"
      ]
    },
    {
      "cell_type": "markdown",
      "metadata": {
        "id": "XtwZeMHA_fZk",
        "colab_type": "text"
      },
      "source": [
        "### 1. parameter"
      ]
    },
    {
      "cell_type": "code",
      "metadata": {
        "id": "UrvaJJ9ErLLi",
        "colab_type": "code",
        "outputId": "e31bc826-920e-4cc6-84ea-f148bedba306",
        "colab": {
          "base_uri": "https://localhost:8080/",
          "height": 224
        }
      },
      "source": [
        "parameter_compare_man(corpusSim_man, 'use_lem')"
      ],
      "execution_count": 0,
      "outputs": [
        {
          "output_type": "stream",
          "text": [
            "Porovnanie parametru: use_lem\n",
            "priemerná hodnota zvýšenia úspešnosti 0.0189\n",
            "priemerná absolútna hodnota zvýšenia úspešnosti 0.0189\n"
          ],
          "name": "stdout"
        },
        {
          "output_type": "execute_result",
          "data": {
            "text/html": [
              "<div>\n",
              "<style scoped>\n",
              "    .dataframe tbody tr th:only-of-type {\n",
              "        vertical-align: middle;\n",
              "    }\n",
              "\n",
              "    .dataframe tbody tr th {\n",
              "        vertical-align: top;\n",
              "    }\n",
              "\n",
              "    .dataframe thead th {\n",
              "        text-align: right;\n",
              "    }\n",
              "</style>\n",
              "<table border=\"1\" class=\"dataframe\">\n",
              "  <thead>\n",
              "    <tr style=\"text-align: right;\">\n",
              "      <th></th>\n",
              "      <th>použitie slovných druhov</th>\n",
              "      <th>použitie stop slov</th>\n",
              "      <th>úspešnosť s použitím lematizácie</th>\n",
              "      <th>úspešnosť bez použitia lematizácie</th>\n",
              "      <th>zníženie chyby</th>\n",
              "    </tr>\n",
              "  </thead>\n",
              "  <tbody>\n",
              "    <tr>\n",
              "      <th>0</th>\n",
              "      <td>áno</td>\n",
              "      <td>áno</td>\n",
              "      <td>0.1541</td>\n",
              "      <td>0.1746</td>\n",
              "      <td>0.0205</td>\n",
              "    </tr>\n",
              "    <tr>\n",
              "      <th>0</th>\n",
              "      <td>áno</td>\n",
              "      <td>nie</td>\n",
              "      <td>0.1597</td>\n",
              "      <td>0.1980</td>\n",
              "      <td>0.0383</td>\n",
              "    </tr>\n",
              "    <tr>\n",
              "      <th>0</th>\n",
              "      <td>nie</td>\n",
              "      <td>áno</td>\n",
              "      <td>0.1593</td>\n",
              "      <td>0.1663</td>\n",
              "      <td>0.0070</td>\n",
              "    </tr>\n",
              "    <tr>\n",
              "      <th>0</th>\n",
              "      <td>nie</td>\n",
              "      <td>nie</td>\n",
              "      <td>0.1570</td>\n",
              "      <td>0.1666</td>\n",
              "      <td>0.0096</td>\n",
              "    </tr>\n",
              "  </tbody>\n",
              "</table>\n",
              "</div>"
            ],
            "text/plain": [
              "  použitie slovných druhov použitie stop slov  \\\n",
              "0                      áno                áno   \n",
              "0                      áno                nie   \n",
              "0                      nie                áno   \n",
              "0                      nie                nie   \n",
              "\n",
              "   úspešnosť s použitím lematizácie  úspešnosť bez použitia lematizácie  \\\n",
              "0                            0.1541                              0.1746   \n",
              "0                            0.1597                              0.1980   \n",
              "0                            0.1593                              0.1663   \n",
              "0                            0.1570                              0.1666   \n",
              "\n",
              "   zníženie chyby  \n",
              "0          0.0205  \n",
              "0          0.0383  \n",
              "0          0.0070  \n",
              "0          0.0096  "
            ]
          },
          "metadata": {
            "tags": []
          },
          "execution_count": 24
        }
      ]
    },
    {
      "cell_type": "markdown",
      "metadata": {
        "id": "hUUsYg_T0vdR",
        "colab_type": "text"
      },
      "source": [
        "**Použitie lematizácie pri korpusovej metóde znižuje chybu**"
      ]
    },
    {
      "cell_type": "markdown",
      "metadata": {
        "id": "izpDCD7o_m1V",
        "colab_type": "text"
      },
      "source": [
        "### 2. parameter"
      ]
    },
    {
      "cell_type": "code",
      "metadata": {
        "id": "BnNNXZFHpGke",
        "colab_type": "code",
        "outputId": "f2409152-c9aa-477e-97ac-6c19fac8d7d0",
        "colab": {
          "base_uri": "https://localhost:8080/",
          "height": 224
        }
      },
      "source": [
        "parameter_compare_man(corpusSim_man, 'use_pos')"
      ],
      "execution_count": 0,
      "outputs": [
        {
          "output_type": "stream",
          "text": [
            "Porovnanie parametru: use_pos\n",
            "priemerná hodnota zvýšenia úspešnosti -0.0093\n",
            "priemerná absolútna hodnota zvýšenia úspešnosti 0.0119\n"
          ],
          "name": "stdout"
        },
        {
          "output_type": "execute_result",
          "data": {
            "text/html": [
              "<div>\n",
              "<style scoped>\n",
              "    .dataframe tbody tr th:only-of-type {\n",
              "        vertical-align: middle;\n",
              "    }\n",
              "\n",
              "    .dataframe tbody tr th {\n",
              "        vertical-align: top;\n",
              "    }\n",
              "\n",
              "    .dataframe thead th {\n",
              "        text-align: right;\n",
              "    }\n",
              "</style>\n",
              "<table border=\"1\" class=\"dataframe\">\n",
              "  <thead>\n",
              "    <tr style=\"text-align: right;\">\n",
              "      <th></th>\n",
              "      <th>použitie lematizácie</th>\n",
              "      <th>použitie stop slov</th>\n",
              "      <th>úspešnosť s použitím slovných druhov</th>\n",
              "      <th>úspešnosť bez použitia slovných druhov</th>\n",
              "      <th>zníženie chyby</th>\n",
              "    </tr>\n",
              "  </thead>\n",
              "  <tbody>\n",
              "    <tr>\n",
              "      <th>0</th>\n",
              "      <td>áno</td>\n",
              "      <td>áno</td>\n",
              "      <td>0.1541</td>\n",
              "      <td>0.1593</td>\n",
              "      <td>0.0052</td>\n",
              "    </tr>\n",
              "    <tr>\n",
              "      <th>0</th>\n",
              "      <td>áno</td>\n",
              "      <td>nie</td>\n",
              "      <td>0.1597</td>\n",
              "      <td>0.1570</td>\n",
              "      <td>-0.0027</td>\n",
              "    </tr>\n",
              "    <tr>\n",
              "      <th>0</th>\n",
              "      <td>nie</td>\n",
              "      <td>áno</td>\n",
              "      <td>0.1746</td>\n",
              "      <td>0.1663</td>\n",
              "      <td>-0.0083</td>\n",
              "    </tr>\n",
              "    <tr>\n",
              "      <th>0</th>\n",
              "      <td>nie</td>\n",
              "      <td>nie</td>\n",
              "      <td>0.1980</td>\n",
              "      <td>0.1666</td>\n",
              "      <td>-0.0314</td>\n",
              "    </tr>\n",
              "  </tbody>\n",
              "</table>\n",
              "</div>"
            ],
            "text/plain": [
              "  použitie lematizácie použitie stop slov  \\\n",
              "0                  áno                áno   \n",
              "0                  áno                nie   \n",
              "0                  nie                áno   \n",
              "0                  nie                nie   \n",
              "\n",
              "   úspešnosť s použitím slovných druhov  \\\n",
              "0                                0.1541   \n",
              "0                                0.1597   \n",
              "0                                0.1746   \n",
              "0                                0.1980   \n",
              "\n",
              "   úspešnosť bez použitia slovných druhov  zníženie chyby  \n",
              "0                                  0.1593          0.0052  \n",
              "0                                  0.1570         -0.0027  \n",
              "0                                  0.1663         -0.0083  \n",
              "0                                  0.1666         -0.0314  "
            ]
          },
          "metadata": {
            "tags": []
          },
          "execution_count": 16
        }
      ]
    },
    {
      "cell_type": "markdown",
      "metadata": {
        "id": "g-zFQMPF0kgh",
        "colab_type": "text"
      },
      "source": [
        "**Použitie slovných druhov pri korpusovej metóde zvyšuje chybu** **- okrem použitia s lematizáciou a stop slovami**"
      ]
    },
    {
      "cell_type": "markdown",
      "metadata": {
        "id": "EPIVW-Hk_o0k",
        "colab_type": "text"
      },
      "source": [
        "### 3. parameter"
      ]
    },
    {
      "cell_type": "code",
      "metadata": {
        "id": "HynIVDHhVUdQ",
        "colab_type": "code",
        "outputId": "39eee388-3c49-4dbd-b5ef-a380f67b6a58",
        "colab": {
          "base_uri": "https://localhost:8080/",
          "height": 224
        }
      },
      "source": [
        "parameter_compare_man(corpusSim_man, 'use_stop')"
      ],
      "execution_count": 0,
      "outputs": [
        {
          "output_type": "stream",
          "text": [
            "Porovnanie parametru: use_stop\n",
            "priemerná hodnota zvýšenia úspešnosti 0.0068\n",
            "priemerná absolútna hodnota zvýšenia úspešnosti 0.0079\n"
          ],
          "name": "stdout"
        },
        {
          "output_type": "execute_result",
          "data": {
            "text/html": [
              "<div>\n",
              "<style scoped>\n",
              "    .dataframe tbody tr th:only-of-type {\n",
              "        vertical-align: middle;\n",
              "    }\n",
              "\n",
              "    .dataframe tbody tr th {\n",
              "        vertical-align: top;\n",
              "    }\n",
              "\n",
              "    .dataframe thead th {\n",
              "        text-align: right;\n",
              "    }\n",
              "</style>\n",
              "<table border=\"1\" class=\"dataframe\">\n",
              "  <thead>\n",
              "    <tr style=\"text-align: right;\">\n",
              "      <th></th>\n",
              "      <th>použitie lematizácie</th>\n",
              "      <th>použitie slovných druhov</th>\n",
              "      <th>úspešnosť s použitím stop slov</th>\n",
              "      <th>úspešnosť bez použitia stop slov</th>\n",
              "      <th>zníženie chyby</th>\n",
              "    </tr>\n",
              "  </thead>\n",
              "  <tbody>\n",
              "    <tr>\n",
              "      <th>0</th>\n",
              "      <td>áno</td>\n",
              "      <td>áno</td>\n",
              "      <td>0.1541</td>\n",
              "      <td>0.1597</td>\n",
              "      <td>0.0056</td>\n",
              "    </tr>\n",
              "    <tr>\n",
              "      <th>0</th>\n",
              "      <td>áno</td>\n",
              "      <td>nie</td>\n",
              "      <td>0.1593</td>\n",
              "      <td>0.1570</td>\n",
              "      <td>-0.0023</td>\n",
              "    </tr>\n",
              "    <tr>\n",
              "      <th>0</th>\n",
              "      <td>nie</td>\n",
              "      <td>áno</td>\n",
              "      <td>0.1746</td>\n",
              "      <td>0.1980</td>\n",
              "      <td>0.0234</td>\n",
              "    </tr>\n",
              "    <tr>\n",
              "      <th>0</th>\n",
              "      <td>nie</td>\n",
              "      <td>nie</td>\n",
              "      <td>0.1663</td>\n",
              "      <td>0.1666</td>\n",
              "      <td>0.0003</td>\n",
              "    </tr>\n",
              "  </tbody>\n",
              "</table>\n",
              "</div>"
            ],
            "text/plain": [
              "  použitie lematizácie použitie slovných druhov  \\\n",
              "0                  áno                      áno   \n",
              "0                  áno                      nie   \n",
              "0                  nie                      áno   \n",
              "0                  nie                      nie   \n",
              "\n",
              "   úspešnosť s použitím stop slov  úspešnosť bez použitia stop slov  \\\n",
              "0                          0.1541                            0.1597   \n",
              "0                          0.1593                            0.1570   \n",
              "0                          0.1746                            0.1980   \n",
              "0                          0.1663                            0.1666   \n",
              "\n",
              "   zníženie chyby  \n",
              "0          0.0056  \n",
              "0         -0.0023  \n",
              "0          0.0234  \n",
              "0          0.0003  "
            ]
          },
          "metadata": {
            "tags": []
          },
          "execution_count": 17
        }
      ]
    },
    {
      "cell_type": "markdown",
      "metadata": {
        "id": "lpOHEoYhvfnU",
        "colab_type": "text"
      },
      "source": [
        "**Použitie stop slov pri korpusovej metóde znižuje chybu** **- okrem použitia s lematizáciou a bez slovných druhov**"
      ]
    },
    {
      "cell_type": "markdown",
      "metadata": {
        "id": "x6EFe6TctMIB",
        "colab_type": "text"
      },
      "source": [
        "## znalostná metóda"
      ]
    },
    {
      "cell_type": "code",
      "metadata": {
        "id": "V5I8a15IS1aU",
        "colab_type": "code",
        "outputId": "5d83f352-cc2c-4b22-bf6a-08c4d5b86ee1",
        "colab": {
          "base_uri": "https://localhost:8080/",
          "height": 297
        }
      },
      "source": [
        "knowledgeSim_man = man_eval[man_eval['method'] == 'knowledgeSim']\n",
        "knowledgeSim_man"
      ],
      "execution_count": 0,
      "outputs": [
        {
          "output_type": "execute_result",
          "data": {
            "text/html": [
              "<div>\n",
              "<style scoped>\n",
              "    .dataframe tbody tr th:only-of-type {\n",
              "        vertical-align: middle;\n",
              "    }\n",
              "\n",
              "    .dataframe tbody tr th {\n",
              "        vertical-align: top;\n",
              "    }\n",
              "\n",
              "    .dataframe thead th {\n",
              "        text-align: right;\n",
              "    }\n",
              "</style>\n",
              "<table border=\"1\" class=\"dataframe\">\n",
              "  <thead>\n",
              "    <tr style=\"text-align: right;\">\n",
              "      <th></th>\n",
              "      <th>method</th>\n",
              "      <th>use_lem</th>\n",
              "      <th>use_pos</th>\n",
              "      <th>use_stop</th>\n",
              "      <th>error</th>\n",
              "    </tr>\n",
              "  </thead>\n",
              "  <tbody>\n",
              "    <tr>\n",
              "      <th>8</th>\n",
              "      <td>knowledgeSim</td>\n",
              "      <td>True</td>\n",
              "      <td>True</td>\n",
              "      <td>True</td>\n",
              "      <td>0.2249</td>\n",
              "    </tr>\n",
              "    <tr>\n",
              "      <th>9</th>\n",
              "      <td>knowledgeSim</td>\n",
              "      <td>True</td>\n",
              "      <td>True</td>\n",
              "      <td>False</td>\n",
              "      <td>0.2636</td>\n",
              "    </tr>\n",
              "    <tr>\n",
              "      <th>10</th>\n",
              "      <td>knowledgeSim</td>\n",
              "      <td>True</td>\n",
              "      <td>False</td>\n",
              "      <td>True</td>\n",
              "      <td>0.1808</td>\n",
              "    </tr>\n",
              "    <tr>\n",
              "      <th>11</th>\n",
              "      <td>knowledgeSim</td>\n",
              "      <td>True</td>\n",
              "      <td>False</td>\n",
              "      <td>False</td>\n",
              "      <td>0.2005</td>\n",
              "    </tr>\n",
              "    <tr>\n",
              "      <th>12</th>\n",
              "      <td>knowledgeSim</td>\n",
              "      <td>False</td>\n",
              "      <td>True</td>\n",
              "      <td>True</td>\n",
              "      <td>0.2899</td>\n",
              "    </tr>\n",
              "    <tr>\n",
              "      <th>13</th>\n",
              "      <td>knowledgeSim</td>\n",
              "      <td>False</td>\n",
              "      <td>True</td>\n",
              "      <td>False</td>\n",
              "      <td>0.3216</td>\n",
              "    </tr>\n",
              "    <tr>\n",
              "      <th>14</th>\n",
              "      <td>knowledgeSim</td>\n",
              "      <td>False</td>\n",
              "      <td>False</td>\n",
              "      <td>True</td>\n",
              "      <td>0.2170</td>\n",
              "    </tr>\n",
              "    <tr>\n",
              "      <th>15</th>\n",
              "      <td>knowledgeSim</td>\n",
              "      <td>False</td>\n",
              "      <td>False</td>\n",
              "      <td>False</td>\n",
              "      <td>0.2425</td>\n",
              "    </tr>\n",
              "  </tbody>\n",
              "</table>\n",
              "</div>"
            ],
            "text/plain": [
              "          method  use_lem  use_pos  use_stop   error\n",
              "8   knowledgeSim     True     True      True  0.2249\n",
              "9   knowledgeSim     True     True     False  0.2636\n",
              "10  knowledgeSim     True    False      True  0.1808\n",
              "11  knowledgeSim     True    False     False  0.2005\n",
              "12  knowledgeSim    False     True      True  0.2899\n",
              "13  knowledgeSim    False     True     False  0.3216\n",
              "14  knowledgeSim    False    False      True  0.2170\n",
              "15  knowledgeSim    False    False     False  0.2425"
            ]
          },
          "metadata": {
            "tags": []
          },
          "execution_count": 26
        }
      ]
    },
    {
      "cell_type": "markdown",
      "metadata": {
        "id": "PQiPWuMEUAIq",
        "colab_type": "text"
      },
      "source": [
        "**Výsledky manuálnej evaluácie znalostnej metódy**"
      ]
    },
    {
      "cell_type": "markdown",
      "metadata": {
        "id": "8x-hFFvQ_l91",
        "colab_type": "text"
      },
      "source": [
        "### 1. parameter"
      ]
    },
    {
      "cell_type": "code",
      "metadata": {
        "id": "uCc93E5utt7v",
        "colab_type": "code",
        "outputId": "87bf1163-7fb3-4b7e-8a50-fa42d5228c33",
        "colab": {
          "base_uri": "https://localhost:8080/",
          "height": 224
        }
      },
      "source": [
        "parameter_compare_man(knowledgeSim_man, 'use_pos')"
      ],
      "execution_count": 0,
      "outputs": [
        {
          "output_type": "stream",
          "text": [
            "Porovnanie parametru: use_pos\n",
            "priemerná hodnota zvýšenia úspešnosti -0.0648\n",
            "priemerná absolútna hodnota zvýšenia úspešnosti 0.0648\n"
          ],
          "name": "stdout"
        },
        {
          "output_type": "execute_result",
          "data": {
            "text/html": [
              "<div>\n",
              "<style scoped>\n",
              "    .dataframe tbody tr th:only-of-type {\n",
              "        vertical-align: middle;\n",
              "    }\n",
              "\n",
              "    .dataframe tbody tr th {\n",
              "        vertical-align: top;\n",
              "    }\n",
              "\n",
              "    .dataframe thead th {\n",
              "        text-align: right;\n",
              "    }\n",
              "</style>\n",
              "<table border=\"1\" class=\"dataframe\">\n",
              "  <thead>\n",
              "    <tr style=\"text-align: right;\">\n",
              "      <th></th>\n",
              "      <th>použitie lematizácie</th>\n",
              "      <th>použitie stop slov</th>\n",
              "      <th>úspešnosť s použitím slovných druhov</th>\n",
              "      <th>úspešnosť bez použitia slovných druhov</th>\n",
              "      <th>zníženie chyby</th>\n",
              "    </tr>\n",
              "  </thead>\n",
              "  <tbody>\n",
              "    <tr>\n",
              "      <th>0</th>\n",
              "      <td>áno</td>\n",
              "      <td>áno</td>\n",
              "      <td>0.2249</td>\n",
              "      <td>0.1808</td>\n",
              "      <td>-0.0441</td>\n",
              "    </tr>\n",
              "    <tr>\n",
              "      <th>0</th>\n",
              "      <td>áno</td>\n",
              "      <td>nie</td>\n",
              "      <td>0.2636</td>\n",
              "      <td>0.2005</td>\n",
              "      <td>-0.0631</td>\n",
              "    </tr>\n",
              "    <tr>\n",
              "      <th>0</th>\n",
              "      <td>nie</td>\n",
              "      <td>áno</td>\n",
              "      <td>0.2899</td>\n",
              "      <td>0.2170</td>\n",
              "      <td>-0.0729</td>\n",
              "    </tr>\n",
              "    <tr>\n",
              "      <th>0</th>\n",
              "      <td>nie</td>\n",
              "      <td>nie</td>\n",
              "      <td>0.3216</td>\n",
              "      <td>0.2425</td>\n",
              "      <td>-0.0791</td>\n",
              "    </tr>\n",
              "  </tbody>\n",
              "</table>\n",
              "</div>"
            ],
            "text/plain": [
              "  použitie lematizácie použitie stop slov  \\\n",
              "0                  áno                áno   \n",
              "0                  áno                nie   \n",
              "0                  nie                áno   \n",
              "0                  nie                nie   \n",
              "\n",
              "   úspešnosť s použitím slovných druhov  \\\n",
              "0                                0.2249   \n",
              "0                                0.2636   \n",
              "0                                0.2899   \n",
              "0                                0.3216   \n",
              "\n",
              "   úspešnosť bez použitia slovných druhov  zníženie chyby  \n",
              "0                                  0.1808         -0.0441  \n",
              "0                                  0.2005         -0.0631  \n",
              "0                                  0.2170         -0.0729  \n",
              "0                                  0.2425         -0.0791  "
            ]
          },
          "metadata": {
            "tags": []
          },
          "execution_count": 27
        }
      ]
    },
    {
      "cell_type": "markdown",
      "metadata": {
        "id": "s9pMHu1H4w05",
        "colab_type": "text"
      },
      "source": [
        "**Použitie slovných druhov pri znalostnej metóde zvyšuje chybu**"
      ]
    },
    {
      "cell_type": "markdown",
      "metadata": {
        "id": "BZZSOIDm_oOE",
        "colab_type": "text"
      },
      "source": [
        "### 2. parameter"
      ]
    },
    {
      "cell_type": "code",
      "metadata": {
        "id": "3zxKp3dvtuIu",
        "colab_type": "code",
        "outputId": "2635835c-6ee6-4560-e54d-1ccf5c5c1e21",
        "colab": {
          "base_uri": "https://localhost:8080/",
          "height": 224
        }
      },
      "source": [
        "parameter_compare_man(knowledgeSim_man, 'use_lem')"
      ],
      "execution_count": 0,
      "outputs": [
        {
          "output_type": "stream",
          "text": [
            "Porovnanie parametru: use_lem\n",
            "priemerná hodnota zvýšenia úspešnosti 0.0503\n",
            "priemerná absolútna hodnota zvýšenia úspešnosti 0.0503\n"
          ],
          "name": "stdout"
        },
        {
          "output_type": "execute_result",
          "data": {
            "text/html": [
              "<div>\n",
              "<style scoped>\n",
              "    .dataframe tbody tr th:only-of-type {\n",
              "        vertical-align: middle;\n",
              "    }\n",
              "\n",
              "    .dataframe tbody tr th {\n",
              "        vertical-align: top;\n",
              "    }\n",
              "\n",
              "    .dataframe thead th {\n",
              "        text-align: right;\n",
              "    }\n",
              "</style>\n",
              "<table border=\"1\" class=\"dataframe\">\n",
              "  <thead>\n",
              "    <tr style=\"text-align: right;\">\n",
              "      <th></th>\n",
              "      <th>použitie slovných druhov</th>\n",
              "      <th>použitie stop slov</th>\n",
              "      <th>úspešnosť s použitím lematizácie</th>\n",
              "      <th>úspešnosť bez použitia lematizácie</th>\n",
              "      <th>zníženie chyby</th>\n",
              "    </tr>\n",
              "  </thead>\n",
              "  <tbody>\n",
              "    <tr>\n",
              "      <th>0</th>\n",
              "      <td>áno</td>\n",
              "      <td>áno</td>\n",
              "      <td>0.2249</td>\n",
              "      <td>0.2899</td>\n",
              "      <td>0.0650</td>\n",
              "    </tr>\n",
              "    <tr>\n",
              "      <th>0</th>\n",
              "      <td>áno</td>\n",
              "      <td>nie</td>\n",
              "      <td>0.2636</td>\n",
              "      <td>0.3216</td>\n",
              "      <td>0.0580</td>\n",
              "    </tr>\n",
              "    <tr>\n",
              "      <th>0</th>\n",
              "      <td>nie</td>\n",
              "      <td>áno</td>\n",
              "      <td>0.1808</td>\n",
              "      <td>0.2170</td>\n",
              "      <td>0.0362</td>\n",
              "    </tr>\n",
              "    <tr>\n",
              "      <th>0</th>\n",
              "      <td>nie</td>\n",
              "      <td>nie</td>\n",
              "      <td>0.2005</td>\n",
              "      <td>0.2425</td>\n",
              "      <td>0.0420</td>\n",
              "    </tr>\n",
              "  </tbody>\n",
              "</table>\n",
              "</div>"
            ],
            "text/plain": [
              "  použitie slovných druhov použitie stop slov  \\\n",
              "0                      áno                áno   \n",
              "0                      áno                nie   \n",
              "0                      nie                áno   \n",
              "0                      nie                nie   \n",
              "\n",
              "   úspešnosť s použitím lematizácie  úspešnosť bez použitia lematizácie  \\\n",
              "0                            0.2249                              0.2899   \n",
              "0                            0.2636                              0.3216   \n",
              "0                            0.1808                              0.2170   \n",
              "0                            0.2005                              0.2425   \n",
              "\n",
              "   zníženie chyby  \n",
              "0          0.0650  \n",
              "0          0.0580  \n",
              "0          0.0362  \n",
              "0          0.0420  "
            ]
          },
          "metadata": {
            "tags": []
          },
          "execution_count": 20
        }
      ]
    },
    {
      "cell_type": "markdown",
      "metadata": {
        "id": "0U8yey6Z43QA",
        "colab_type": "text"
      },
      "source": [
        "**Použitie lematizácie pri znalostnej metóde znižuje chybu**"
      ]
    },
    {
      "cell_type": "markdown",
      "metadata": {
        "id": "tC21Zj-s_qAO",
        "colab_type": "text"
      },
      "source": [
        "### 3 parameter."
      ]
    },
    {
      "cell_type": "code",
      "metadata": {
        "id": "CaCy8tIItmG2",
        "colab_type": "code",
        "outputId": "1121f153-1334-4244-aff6-7ad7b5cad90c",
        "colab": {
          "base_uri": "https://localhost:8080/",
          "height": 224
        }
      },
      "source": [
        "parameter_compare_man(knowledgeSim_man, 'use_stop')"
      ],
      "execution_count": 0,
      "outputs": [
        {
          "output_type": "stream",
          "text": [
            "Porovnanie parametru: use_stop\n",
            "priemerná hodnota zvýšenia úspešnosti 0.0289\n",
            "priemerná absolútna hodnota zvýšenia úspešnosti 0.0289\n"
          ],
          "name": "stdout"
        },
        {
          "output_type": "execute_result",
          "data": {
            "text/html": [
              "<div>\n",
              "<style scoped>\n",
              "    .dataframe tbody tr th:only-of-type {\n",
              "        vertical-align: middle;\n",
              "    }\n",
              "\n",
              "    .dataframe tbody tr th {\n",
              "        vertical-align: top;\n",
              "    }\n",
              "\n",
              "    .dataframe thead th {\n",
              "        text-align: right;\n",
              "    }\n",
              "</style>\n",
              "<table border=\"1\" class=\"dataframe\">\n",
              "  <thead>\n",
              "    <tr style=\"text-align: right;\">\n",
              "      <th></th>\n",
              "      <th>použitie lematizácie</th>\n",
              "      <th>použitie slovných druhov</th>\n",
              "      <th>úspešnosť s použitím stop slov</th>\n",
              "      <th>úspešnosť bez použitia stop slov</th>\n",
              "      <th>zníženie chyby</th>\n",
              "    </tr>\n",
              "  </thead>\n",
              "  <tbody>\n",
              "    <tr>\n",
              "      <th>0</th>\n",
              "      <td>áno</td>\n",
              "      <td>áno</td>\n",
              "      <td>0.2249</td>\n",
              "      <td>0.2636</td>\n",
              "      <td>0.0387</td>\n",
              "    </tr>\n",
              "    <tr>\n",
              "      <th>0</th>\n",
              "      <td>áno</td>\n",
              "      <td>nie</td>\n",
              "      <td>0.1808</td>\n",
              "      <td>0.2005</td>\n",
              "      <td>0.0197</td>\n",
              "    </tr>\n",
              "    <tr>\n",
              "      <th>0</th>\n",
              "      <td>nie</td>\n",
              "      <td>áno</td>\n",
              "      <td>0.2899</td>\n",
              "      <td>0.3216</td>\n",
              "      <td>0.0317</td>\n",
              "    </tr>\n",
              "    <tr>\n",
              "      <th>0</th>\n",
              "      <td>nie</td>\n",
              "      <td>nie</td>\n",
              "      <td>0.2170</td>\n",
              "      <td>0.2425</td>\n",
              "      <td>0.0255</td>\n",
              "    </tr>\n",
              "  </tbody>\n",
              "</table>\n",
              "</div>"
            ],
            "text/plain": [
              "  použitie lematizácie použitie slovných druhov  \\\n",
              "0                  áno                      áno   \n",
              "0                  áno                      nie   \n",
              "0                  nie                      áno   \n",
              "0                  nie                      nie   \n",
              "\n",
              "   úspešnosť s použitím stop slov  úspešnosť bez použitia stop slov  \\\n",
              "0                          0.2249                            0.2636   \n",
              "0                          0.1808                            0.2005   \n",
              "0                          0.2899                            0.3216   \n",
              "0                          0.2170                            0.2425   \n",
              "\n",
              "   zníženie chyby  \n",
              "0          0.0387  \n",
              "0          0.0197  \n",
              "0          0.0317  \n",
              "0          0.0255  "
            ]
          },
          "metadata": {
            "tags": []
          },
          "execution_count": 21
        }
      ]
    },
    {
      "cell_type": "markdown",
      "metadata": {
        "id": "UjR-YUoI4nR7",
        "colab_type": "text"
      },
      "source": [
        "**Použitie stop slov pri znalostnej metóde znižuje chybu**"
      ]
    }
  ]
}